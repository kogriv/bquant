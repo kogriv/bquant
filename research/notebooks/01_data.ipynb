{
 "cells": [
  {
   "cell_type": "code",
   "execution_count": null,
   "metadata": {},
   "outputs": [],
   "source": []
  },
  {
   "cell_type": "markdown",
   "metadata": {},
   "source": [
    "# 01. BQuant Data Module Testing\n",
    "\n",
    "Тестирование функций загрузки, обработки и валидации данных из модуля `bquant.data`.\n",
    "\n",
    "## План тестирования:\n",
    "1. **Настройка окружения** - импорты и установка директории данных\n",
    "2. **Тестирование loader** - загрузка CSV файлов  \n",
    "3. **Обзор доступных данных** - символы и таймфреймы"
   ]
  },
  {
   "cell_type": "code",
   "execution_count": 2,
   "metadata": {},
   "outputs": [
    {
     "name": "stdout",
     "output_type": "stream",
     "text": [
      "📁 Project root: c:\\Users\\g\\Documents\\pro\\bquant\n",
      "🐍 Python path: c:\\Users\\g\\Documents\\pro\\bquant\n",
      "📊 Pandas version: 2.3.1\n"
     ]
    }
   ],
   "source": [
    "# Настройка окружения\n",
    "import sys\n",
    "from pathlib import Path\n",
    "import pandas as pd\n",
    "import numpy as np\n",
    "\n",
    "# Добавляем путь к пакету bquant\n",
    "project_root = Path.cwd().parent.parent\n",
    "sys.path.insert(0, str(project_root))\n",
    "\n",
    "print(f\"📁 Project root: {project_root}\")\n",
    "print(f\"🐍 Python path: {sys.path[0]}\")\n",
    "print(f\"📊 Pandas version: {pd.__version__}\")"
   ]
  },
  {
   "cell_type": "code",
   "execution_count": 3,
   "metadata": {},
   "outputs": [
    {
     "name": "stdout",
     "output_type": "stream",
     "text": [
      "14:57:28 - bquant - INFO - Система логгирования BQuant инициализирована (консоль: INFO)\n",
      "14:57:28 - bquant - INFO - Логи сохраняются в файл: c:\\Users\\g\\Documents\\pro\\bquant\\logs\\bquant.log (уровень: INFO)\n"
     ]
    },
    {
     "data": {
      "text/plain": [
       "<Logger bquant (DEBUG)>"
      ]
     },
     "execution_count": 3,
     "metadata": {},
     "output_type": "execute_result"
    }
   ],
   "source": [
    "from bquant.core.logging_config import setup_logging\n",
    "\n",
    "setup_logging(profile=\"research\")"
   ]
  },
  {
   "cell_type": "code",
   "execution_count": 14,
   "metadata": {},
   "outputs": [
    {
     "name": "stdout",
     "output_type": "stream",
     "text": [
      "✅ BQuant modules imported successfully\n"
     ]
    }
   ],
   "source": [
    "# Импорты из bquant\n",
    "from bquant.core.config import (\n",
    "    get_data_dir, set_data_dir, set_data_dir, reset_directories_to_defaults, PROJECT_ROOT\n",
    ")\n",
    "\n",
    "from bquant.data.loader import (\n",
    "    load_ohlcv_data, get_data_info, load_symbol_data,\n",
    "    get_available_symbols, get_available_timeframes\n",
    ")\n",
    "\n",
    "print(\"✅ BQuant modules imported successfully\")"
   ]
  },
  {
   "cell_type": "code",
   "execution_count": 11,
   "metadata": {},
   "outputs": [],
   "source": [
    "reset_directories_to_defaults()"
   ]
  },
  {
   "cell_type": "code",
   "execution_count": 12,
   "metadata": {},
   "outputs": [
    {
     "name": "stdout",
     "output_type": "stream",
     "text": [
      "c:\\Users\\g\\Documents\\pro\\bquant\n",
      "c:\\Users\\g\\Documents\\pro\\bquant\\data\n",
      "c:\\Users\\g\\Documents\\pro\\bquant\\data\\row\n"
     ]
    }
   ],
   "source": [
    "print(PROJECT_ROOT)\n",
    "print(get_data_dir())\n",
    "set_data_dir(PROJECT_ROOT/\"data\"/\"row\")\n",
    "print(get_data_dir())"
   ]
  },
  {
   "cell_type": "markdown",
   "metadata": {},
   "source": [
    "## Шаг 1: Тестирование загрузки OANDA_XAUUSD, 60.csv\n",
    "\n",
    "Загружаем данные OANDA формата с валидацией"
   ]
  },
  {
   "cell_type": "code",
   "execution_count": 16,
   "metadata": {},
   "outputs": [
    {
     "name": "stdout",
     "output_type": "stream",
     "text": [
      "[]\n"
     ]
    }
   ],
   "source": [
    "print(get_available_symbols())\n"
   ]
  },
  {
   "cell_type": "code",
   "execution_count": null,
   "metadata": {},
   "outputs": [],
   "source": []
  },
  {
   "cell_type": "code",
   "execution_count": null,
   "metadata": {},
   "outputs": [
    {
     "ename": "DataLoadingError",
     "evalue": "Data file not found: c:\\Users\\g\\Documents\\pro\\bquant\\data\\row\\XAUUASDH1.csv (Details: file_path=c:\\Users\\g\\Documents\\pro\\bquant\\data\\row\\XAUUASDH1.csv, symbol=XAUUASD, timeframe=1h)",
     "output_type": "error",
     "traceback": [
      "\u001b[31m---------------------------------------------------------------------------\u001b[39m",
      "\u001b[31mDataLoadingError\u001b[39m                          Traceback (most recent call last)",
      "\u001b[36mCell\u001b[39m\u001b[36m \u001b[39m\u001b[32mIn[15]\u001b[39m\u001b[32m, line 1\u001b[39m\n\u001b[32m----> \u001b[39m\u001b[32m1\u001b[39m dfmt = \u001b[43mload_symbol_data\u001b[49m\u001b[43m(\u001b[49m\u001b[33;43m\"\u001b[39;49m\u001b[33;43mXAUUASD\u001b[39;49m\u001b[33;43m\"\u001b[39;49m\u001b[43m,\u001b[49m\u001b[33;43m\"\u001b[39;49m\u001b[33;43m1h\u001b[39;49m\u001b[33;43m\"\u001b[39;49m\u001b[43m,\u001b[49m\u001b[43mdata_source\u001b[49m\u001b[43m=\u001b[49m\u001b[33;43m\"\u001b[39;49m\u001b[33;43mmetatrader\u001b[39;49m\u001b[33;43m\"\u001b[39;49m\u001b[43m)\u001b[49m\n",
      "\u001b[36mFile \u001b[39m\u001b[32mc:\\Users\\g\\Documents\\pro\\bquant\\bquant\\data\\loader.py:345\u001b[39m, in \u001b[36mload_symbol_data\u001b[39m\u001b[34m(symbol, timeframe, data_source, quote_provider)\u001b[39m\n\u001b[32m    342\u001b[39m file_path = get_data_path(symbol, mapped_timeframe, data_source, quote_provider)\n\u001b[32m    344\u001b[39m \u001b[38;5;66;03m# Load data\u001b[39;00m\n\u001b[32m--> \u001b[39m\u001b[32m345\u001b[39m \u001b[38;5;28;01mreturn\u001b[39;00m \u001b[43mload_ohlcv_data\u001b[49m\u001b[43m(\u001b[49m\u001b[43mfile_path\u001b[49m\u001b[43m,\u001b[49m\u001b[43m \u001b[49m\u001b[43msymbol\u001b[49m\u001b[43m,\u001b[49m\u001b[43m \u001b[49m\u001b[43mtimeframe\u001b[49m\u001b[43m)\u001b[49m\n",
      "\u001b[36mFile \u001b[39m\u001b[32mc:\\Users\\g\\Documents\\pro\\bquant\\bquant\\data\\loader.py:231\u001b[39m, in \u001b[36mload_ohlcv_data\u001b[39m\u001b[34m(file_path, symbol, timeframe, validate_data)\u001b[39m\n\u001b[32m    229\u001b[39m \u001b[38;5;66;03m# Check if file exists\u001b[39;00m\n\u001b[32m    230\u001b[39m \u001b[38;5;28;01mif\u001b[39;00m \u001b[38;5;129;01mnot\u001b[39;00m file_path.exists():\n\u001b[32m--> \u001b[39m\u001b[32m231\u001b[39m     \u001b[38;5;28;01mraise\u001b[39;00m DataLoadingError(\n\u001b[32m    232\u001b[39m         \u001b[33mf\u001b[39m\u001b[33m\"\u001b[39m\u001b[33mData file not found: \u001b[39m\u001b[38;5;132;01m{\u001b[39;00mfile_path\u001b[38;5;132;01m}\u001b[39;00m\u001b[33m\"\u001b[39m,\n\u001b[32m    233\u001b[39m         {\u001b[33m'\u001b[39m\u001b[33mfile_path\u001b[39m\u001b[33m'\u001b[39m: \u001b[38;5;28mstr\u001b[39m(file_path), \u001b[33m'\u001b[39m\u001b[33msymbol\u001b[39m\u001b[33m'\u001b[39m: symbol, \u001b[33m'\u001b[39m\u001b[33mtimeframe\u001b[39m\u001b[33m'\u001b[39m: timeframe}\n\u001b[32m    234\u001b[39m     )\n\u001b[32m    236\u001b[39m \u001b[38;5;66;03m# Try to read CSV file with encoding detection\u001b[39;00m\n\u001b[32m    237\u001b[39m \u001b[38;5;28;01mtry\u001b[39;00m:\n\u001b[32m    238\u001b[39m     \u001b[38;5;66;03m# Detect file encoding\u001b[39;00m\n",
      "\u001b[31mDataLoadingError\u001b[39m: Data file not found: c:\\Users\\g\\Documents\\pro\\bquant\\data\\row\\XAUUASDH1.csv (Details: file_path=c:\\Users\\g\\Documents\\pro\\bquant\\data\\row\\XAUUASDH1.csv, symbol=XAUUASD, timeframe=1h)"
     ]
    }
   ],
   "source": [
    "dfmt = load_symbol_data(\"XAUUSD\",\"1h\",data_source=\"metatrader\")"
   ]
  },
  {
   "cell_type": "markdown",
   "metadata": {},
   "source": [
    "## Шаг 2: Тестирование загрузки XAUUSDH1.csv\n",
    "\n",
    "Загружаем данные MetaTrader формата"
   ]
  },
  {
   "cell_type": "code",
   "execution_count": null,
   "metadata": {},
   "outputs": [
    {
     "name": "stdout",
     "output_type": "stream",
     "text": [
      "🧪 Test 2: Loading XAUUSDH1.csv\n",
      "===================================\n",
      "File path: /mnt/c/Users/user/Documents/Pro/bquant/data/row/XAUUSDH1.csv\n",
      "File exists: True\n",
      "❌ Error loading MT data: Failed to read CSV file: 'utf-8' codec can't decode byte 0xff in position 0: invalid start byte (Details: file_path=/mnt/c/Users/user/Documents/Pro/bquant/data/row/XAUUSDH1.csv, error='utf-8' codec can't decode byte 0xff in position 0: invalid start byte)\n"
     ]
    },
    {
     "name": "stderr",
     "output_type": "stream",
     "text": [
      "/mnt/c/Users/user/Documents/Pro/bquant/bquant/data/loader.py:85: FutureWarning: The argument 'date_parser' is deprecated and will be removed in a future version. Please use 'date_format' instead, or read your data in as 'object' dtype and then call 'to_datetime'.\n",
      "  df = pd.read_csv(file_path, index_col=0, parse_dates=True, date_parser=date_parser)\n",
      "/mnt/c/Users/user/Documents/Pro/bquant/bquant/data/loader.py:87: FutureWarning: The argument 'date_parser' is deprecated and will be removed in a future version. Please use 'date_format' instead, or read your data in as 'object' dtype and then call 'to_datetime'.\n",
      "  df = pd.read_csv(file_path, parse_dates=['time'], date_parser=date_parser)\n"
     ]
    }
   ],
   "source": [
    "# Тест 2: Загрузка XAUUSDH1.csv\n",
    "print(\"🧪 Test 2: Loading XAUUSDH1.csv\")\n",
    "print(\"=\" * 35)\n",
    "\n",
    "mt_file = get_data_dir() / \"XAUUSDH1.csv\"\n",
    "print(f\"File path: {mt_file}\")\n",
    "print(f\"File exists: {mt_file.exists()}\")\n",
    "\n",
    "if mt_file.exists():\n",
    "    try:\n",
    "        # Загружаем данные MetaTrader формата\n",
    "        mt_data = load_ohlcv_data(\n",
    "            mt_file,\n",
    "            symbol='XAUUSD',\n",
    "            timeframe='1h',\n",
    "            validate_data=True\n",
    "        )\n",
    "        \n",
    "        print(f\"✅ Data loaded successfully!\")\n",
    "        print(f\"Shape: {mt_data.shape}\")\n",
    "        print(f\"Columns: {list(mt_data.columns)}\")\n",
    "        print(f\"Date range: {mt_data.index.min()} to {mt_data.index.max()}\")\n",
    "        \n",
    "        print(f\"\\nFirst 3 rows:\")\n",
    "        print(mt_data.head(3))\n",
    "        \n",
    "        # Информация о данных\n",
    "        mt_info = get_data_info(mt_data)\n",
    "        print(f\"\\n📊 Data Info:\")\n",
    "        print(f\"  Rows: {mt_info['rows']}\")\n",
    "        print(f\"  Memory usage: {mt_info['memory_usage_mb']:.2f} MB\")\n",
    "        print(f\"  Missing values: {mt_info['missing_values']}\")\n",
    "        \n",
    "    except Exception as e:\n",
    "        print(f\"❌ Error loading MT data: {e}\")\n",
    "else:\n",
    "    print(\"❌ MetaTrader file not found\")"
   ]
  },
  {
   "cell_type": "markdown",
   "metadata": {},
   "source": [
    "## Шаг 3: Сравнение источников данных\n",
    "\n",
    "Сравниваем OANDA и MetaTrader данные"
   ]
  },
  {
   "cell_type": "code",
   "execution_count": null,
   "metadata": {},
   "outputs": [],
   "source": [
    "# Тест 3: Сравнение источников данных\n",
    "print(\"🧪 Test 3: Comparing Data Sources\")\n",
    "print(\"=\" * 35)\n",
    "\n",
    "if 'oanda_data' in locals() and 'mt_data' in locals():\n",
    "    print(\"📊 Data Comparison:\")\n",
    "    print(f\"  OANDA shape: {oanda_data.shape}\")\n",
    "    print(f\"  MetaTrader shape: {mt_data.shape}\")\n",
    "    \n",
    "    # Сравниваем колонки\n",
    "    oanda_cols = set(oanda_data.columns)\n",
    "    mt_cols = set(mt_data.columns)\n",
    "    common_cols = oanda_cols.intersection(mt_cols)\n",
    "    \n",
    "    print(f\"\\n📋 Columns:\")\n",
    "    print(f\"  Common columns: {sorted(common_cols)}\")\n",
    "    print(f\"  OANDA only: {sorted(oanda_cols - mt_cols)}\")\n",
    "    print(f\"  MetaTrader only: {sorted(mt_cols - oanda_cols)}\")\n",
    "    \n",
    "    # Сравниваем временные диапазоны\n",
    "    if not oanda_data.index.empty and not mt_data.index.empty:\n",
    "        print(f\"\\n📅 Time Ranges:\")\n",
    "        print(f\"  OANDA: {oanda_data.index.min()} to {oanda_data.index.max()}\")\n",
    "        print(f\"  MetaTrader: {mt_data.index.min()} to {mt_data.index.max()}\")\n",
    "        \n",
    "        # Базовая статистика по ценам закрытия\n",
    "        if 'close' in common_cols:\n",
    "            print(f\"\\n💰 Close Price Stats:\")\n",
    "            print(f\"  OANDA - Mean: {oanda_data['close'].mean():.2f}, Std: {oanda_data['close'].std():.2f}\")\n",
    "            print(f\"  MetaTrader - Mean: {mt_data['close'].mean():.2f}, Std: {mt_data['close'].std():.2f}\")\n",
    "else:\n",
    "    print(\"⚠️ Cannot compare - one or both datasets not loaded\")"
   ]
  },
  {
   "cell_type": "code",
   "execution_count": null,
   "metadata": {},
   "outputs": [],
   "source": [
    "# Настройка логирования - только WARNING+ в консоль, все остальное в файл\n",
    "from bquant.core.logging_config import setup_logging\n",
    "import logging\n",
    "\n",
    "# Настраиваем логирование: WARNING+ в консоль, INFO+ в файл\n",
    "logger = setup_logging(\n",
    "    level=\"INFO\",           # Общий уровень для файла\n",
    "    log_to_file=True,       # Включить файловое логирование  \n",
    "    log_file=project_root / \"logs\" / \"notebook_testing.log\",\n",
    "    use_colors=False,       # Отключить цвета в ноутбуке\n",
    "    reset_loggers=True      # Сбросить существующие настройки\n",
    ")\n",
    "\n",
    "# Устанавливаем уровень WARNING для консольного вывода\n",
    "console_handler = None\n",
    "for handler in logging.getLogger('bquant').handlers:\n",
    "    if isinstance(handler, logging.StreamHandler) and handler.stream.name == '<stdout>':\n",
    "        handler.setLevel(logging.WARNING)\n",
    "        console_handler = handler\n",
    "        break\n",
    "\n",
    "print(\"✅ Logging configured:\")\n",
    "print(f\"  📝 File: INFO+ → {project_root}/logs/notebook_testing.log\") \n",
    "print(f\"  🖥️ Console: WARNING+ only\")\n",
    "print(f\"  📊 Console handler found: {'Yes' if console_handler else 'No'}\")"
   ]
  },
  {
   "cell_type": "markdown",
   "metadata": {},
   "source": [
    "## Шаг 4: Обзор доступных данных\n",
    "\n",
    "Анализируем все доступные символы и таймфреймы"
   ]
  },
  {
   "cell_type": "code",
   "execution_count": null,
   "metadata": {},
   "outputs": [],
   "source": [
    "# Тест 4: Обзор доступных данных\n",
    "print(\"🧪 Test 4: Data Overview\")\n",
    "print(\"=\" * 25)\n",
    "\n",
    "# Получаем список доступных символов и таймфреймов\n",
    "available_symbols = get_available_symbols(get_data_dir())\n",
    "print(f\"📈 Available symbols: {available_symbols}\")\n",
    "\n",
    "if available_symbols:\n",
    "    print(f\"\\n📊 Symbol Details:\")\n",
    "    for symbol in available_symbols:\n",
    "        timeframes = get_available_timeframes(symbol, get_data_dir())\n",
    "        print(f\"  {symbol}: {timeframes}\")\n",
    "else:\n",
    "    print(\"❌ No symbols detected in data directory\")\n",
    "\n",
    "print(f\"\\n📁 Total CSV files in directory: {len(list(get_data_dir().glob('*.csv')))}\")"
   ]
  },
  {
   "cell_type": "markdown",
   "metadata": {},
   "source": [
    "## 🚀 Следующие шаги тестирования Data Module\n",
    "\n",
    "### Предлагаемый план дальнейшего тестирования:\n",
    "\n",
    "#### 📋 **Шаг 5: Data Validator (02_validator.ipynb)**\n",
    "- **Валидация загруженных данных** через `validate_ohlcv_data()`\n",
    "- **Проверка полноты данных** `validate_data_completeness()`  \n",
    "- **Логическая согласованность цен** `validate_price_consistency()`\n",
    "- **Непрерывность временных рядов** `validate_time_series_continuity()`\n",
    "- **Статистические свойства** `validate_statistical_properties()`\n",
    "\n",
    "#### 🔄 **Шаг 6: Data Processor (03_processor.ipynb)**\n",
    "- **Очистка данных** `clean_ohlcv_data()` с разными параметрами\n",
    "- **Удаление выбросов** `remove_price_outliers()` (z-score vs IQR)\n",
    "- **Производные индикаторы** `calculate_derived_indicators()`\n",
    "- **Изменение таймфрейма** `resample_ohlcv()` (1h → 4h, 1d)\n",
    "- **Технические признаки** `add_technical_features()`\n",
    "- **Подготовка к анализу** `prepare_data_for_analysis()`\n",
    "\n",
    "#### 📊 **Шаг 7: Sample Data (04_samples.ipynb)** \n",
    "- **Embedded данные** `get_sample_data()` для разных форматов\n",
    "- **Список датасетов** `list_datasets()` и `get_dataset_info()`\n",
    "- **Валидация samples** `validate_dataset()`\n",
    "- **Сравнение embedded vs реальных данных**\n",
    "- **Генератор данных** `SampleDataGenerator`\n",
    "\n",
    "#### 🔗 **Шаг 8: Integration Testing (05_integration.ipynb)**\n",
    "- **Полный pipeline**: загрузка → валидация → обработка → анализ\n",
    "- **Сравнение результатов** на OANDA vs MetaTrader\n",
    "- **Производительность** на больших файлах\n",
    "- **Edge cases** и обработка ошибок\n",
    "- **Memory usage** и оптимизация\n",
    "\n",
    "#### ⚡ **Шаг 9: Performance & Optimization (06_performance.ipynb)**\n",
    "- **Бенчмарки** времени загрузки разных форматов\n",
    "- **Memory profiling** больших датасетов  \n",
    "- **Кэширование** и повторные загрузки\n",
    "- **Параллельная обработка** нескольких файлов\n",
    "\n",
    "### 🎯 **Критерии завершения тестирования:**\n",
    "- ✅ Все функции data модуля протестированы\n",
    "- ✅ Валидация проходит без критических ошибок\n",
    "- ✅ Производительность в приемлемых рамках\n",
    "- ✅ Edge cases обработаны корректно\n",
    "- ✅ Документированы найденные проблемы"
   ]
  },
  {
   "cell_type": "code",
   "execution_count": null,
   "metadata": {},
   "outputs": [],
   "source": []
  }
 ],
 "metadata": {
  "kernelspec": {
   "display_name": "venv_bquant_ch",
   "language": "python",
   "name": "python3"
  },
  "language_info": {
   "codemirror_mode": {
    "name": "ipython",
    "version": 3
   },
   "file_extension": ".py",
   "mimetype": "text/x-python",
   "name": "python",
   "nbconvert_exporter": "python",
   "pygments_lexer": "ipython3",
   "version": "3.13.5"
  }
 },
 "nbformat": 4,
 "nbformat_minor": 4
}
