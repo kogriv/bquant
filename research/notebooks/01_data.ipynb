{
 "cells": [
  {
   "cell_type": "code",
   "execution_count": null,
   "metadata": {},
   "outputs": [],
   "source": []
  },
  {
   "cell_type": "markdown",
   "metadata": {},
   "source": [
    "# 01. BQuant Data Module Testing\n",
    "\n",
    "Тестирование функций загрузки, обработки и валидации данных из модуля `bquant.data`.\n",
    "\n",
    "## План тестирования:\n",
    "1. **Настройка окружения** - импорты и установка директории данных\n",
    "2. **Тестирование loader** - загрузка CSV файлов  \n",
    "3. **Обзор доступных данных** - символы и таймфреймы"
   ]
  },
  {
   "cell_type": "code",
   "execution_count": null,
   "metadata": {},
   "outputs": [
    {
     "name": "stdout",
     "output_type": "stream",
     "text": [
      "📁 Project root: /mnt/c/Users/user/Documents/Pro/bquant\n",
      "🐍 Python path: /mnt/c/Users/user/Documents/Pro/bquant\n",
      "📊 Pandas version: 2.3.1\n"
     ]
    }
   ],
   "source": [
    "# Настройка окружения\n",
    "import sys\n",
    "from pathlib import Path\n",
    "import pandas as pd\n",
    "import numpy as np\n",
    "\n",
    "# Добавляем путь к пакету bquant\n",
    "project_root = Path.cwd().parent.parent\n",
    "sys.path.insert(0, str(project_root))\n",
    "\n",
    "print(f\"📁 Project root: {project_root}\")\n",
    "print(f\"🐍 Python path: {sys.path[0]}\")\n",
    "print(f\"📊 Pandas version: {pd.__version__}\")"
   ]
  },
  {
   "cell_type": "code",
   "execution_count": null,
   "metadata": {},
   "outputs": [
    {
     "data": {
      "text/plain": [
       "<Logger bquant (DEBUG)>"
      ]
     },
     "execution_count": 2,
     "metadata": {},
     "output_type": "execute_result"
    }
   ],
   "source": [
    "from bquant.core.logging_config import setup_notebook_logging\n",
    "\n",
    "setup_notebook_logging()"
   ]
  },
  {
   "cell_type": "code",
   "execution_count": null,
   "metadata": {},
   "outputs": [
    {
     "ename": "ModuleNotFoundError",
     "evalue": "No module named 'chardet'",
     "output_type": "error",
     "traceback": [
      "\u001b[31m---------------------------------------------------------------------------\u001b[39m",
      "\u001b[31mModuleNotFoundError\u001b[39m                       Traceback (most recent call last)",
      "\u001b[36mCell\u001b[39m\u001b[36m \u001b[39m\u001b[32mIn[3]\u001b[39m\u001b[32m, line 6\u001b[39m\n\u001b[32m      1\u001b[39m \u001b[38;5;66;03m# Импорты из bquant\u001b[39;00m\n\u001b[32m      2\u001b[39m \u001b[38;5;28;01mfrom\u001b[39;00m\u001b[38;5;250m \u001b[39m\u001b[34;01mbquant\u001b[39;00m\u001b[34;01m.\u001b[39;00m\u001b[34;01mcore\u001b[39;00m\u001b[34;01m.\u001b[39;00m\u001b[34;01mconfig\u001b[39;00m\u001b[38;5;250m \u001b[39m\u001b[38;5;28;01mimport\u001b[39;00m (\n\u001b[32m      3\u001b[39m     get_data_dir, set_data_dir, PROJECT_ROOT\n\u001b[32m      4\u001b[39m )\n\u001b[32m----> \u001b[39m\u001b[32m6\u001b[39m \u001b[38;5;28;01mfrom\u001b[39;00m\u001b[38;5;250m \u001b[39m\u001b[34;01mbquant\u001b[39;00m\u001b[34;01m.\u001b[39;00m\u001b[34;01mdata\u001b[39;00m\u001b[34;01m.\u001b[39;00m\u001b[34;01mloader\u001b[39;00m\u001b[38;5;250m \u001b[39m\u001b[38;5;28;01mimport\u001b[39;00m (\n\u001b[32m      7\u001b[39m     load_ohlcv_data, get_data_info, \n\u001b[32m      8\u001b[39m     get_available_symbols, get_available_timeframes\n\u001b[32m      9\u001b[39m )\n\u001b[32m     11\u001b[39m \u001b[38;5;28mprint\u001b[39m(\u001b[33m\"\u001b[39m\u001b[33m✅ BQuant modules imported successfully\u001b[39m\u001b[33m\"\u001b[39m)\n",
      "\u001b[36mFile \u001b[39m\u001b[32m/mnt/c/Users/user/Documents/Pro/bquant/bquant/data/__init__.py:7\u001b[39m\n\u001b[32m      1\u001b[39m \u001b[33;03m\"\"\"\u001b[39;00m\n\u001b[32m      2\u001b[39m \u001b[33;03mBQuant Data Module\u001b[39;00m\n\u001b[32m      3\u001b[39m \n\u001b[32m      4\u001b[39m \u001b[33;03mData loading, processing, and validation functionality.\u001b[39;00m\n\u001b[32m      5\u001b[39m \u001b[33;03m\"\"\"\u001b[39;00m\n\u001b[32m----> \u001b[39m\u001b[32m7\u001b[39m \u001b[38;5;28;01mfrom\u001b[39;00m\u001b[38;5;250m \u001b[39m\u001b[34;01m.\u001b[39;00m\u001b[34;01mloader\u001b[39;00m\u001b[38;5;250m \u001b[39m\u001b[38;5;28;01mimport\u001b[39;00m (\n\u001b[32m      8\u001b[39m     load_ohlcv_data,\n\u001b[32m      9\u001b[39m     load_symbol_data,\n\u001b[32m     10\u001b[39m     load_xauusd_data,\n\u001b[32m     11\u001b[39m     load_all_data_files,\n\u001b[32m     12\u001b[39m     get_data_info,\n\u001b[32m     13\u001b[39m     get_available_symbols,\n\u001b[32m     14\u001b[39m     get_available_timeframes\n\u001b[32m     15\u001b[39m )\n\u001b[32m     17\u001b[39m \u001b[38;5;28;01mfrom\u001b[39;00m\u001b[38;5;250m \u001b[39m\u001b[34;01m.\u001b[39;00m\u001b[34;01mprocessor\u001b[39;00m\u001b[38;5;250m \u001b[39m\u001b[38;5;28;01mimport\u001b[39;00m (\n\u001b[32m     18\u001b[39m     clean_ohlcv_data,\n\u001b[32m     19\u001b[39m     remove_price_outliers,\n\u001b[32m   (...)\u001b[39m\u001b[32m     26\u001b[39m     prepare_data_for_analysis\n\u001b[32m     27\u001b[39m )\n\u001b[32m     29\u001b[39m \u001b[38;5;28;01mfrom\u001b[39;00m\u001b[38;5;250m \u001b[39m\u001b[34;01m.\u001b[39;00m\u001b[34;01mvalidator\u001b[39;00m\u001b[38;5;250m \u001b[39m\u001b[38;5;28;01mimport\u001b[39;00m (\n\u001b[32m     30\u001b[39m     validate_ohlcv_data,\n\u001b[32m     31\u001b[39m     validate_data_completeness,\n\u001b[32m   (...)\u001b[39m\u001b[32m     34\u001b[39m     validate_statistical_properties\n\u001b[32m     35\u001b[39m )\n",
      "\u001b[36mFile \u001b[39m\u001b[32m/mnt/c/Users/user/Documents/Pro/bquant/bquant/data/loader.py:13\u001b[39m\n\u001b[32m     11\u001b[39m \u001b[38;5;28;01mfrom\u001b[39;00m\u001b[38;5;250m \u001b[39m\u001b[34;01mtyping\u001b[39;00m\u001b[38;5;250m \u001b[39m\u001b[38;5;28;01mimport\u001b[39;00m Dict, Any, Optional, List, Union\n\u001b[32m     12\u001b[39m \u001b[38;5;28;01mimport\u001b[39;00m\u001b[38;5;250m \u001b[39m\u001b[34;01mwarnings\u001b[39;00m\n\u001b[32m---> \u001b[39m\u001b[32m13\u001b[39m \u001b[38;5;28;01mimport\u001b[39;00m\u001b[38;5;250m \u001b[39m\u001b[34;01mchardet\u001b[39;00m\n\u001b[32m     15\u001b[39m \u001b[38;5;28;01mfrom\u001b[39;00m\u001b[38;5;250m \u001b[39m\u001b[34;01m.\u001b[39;00m\u001b[34;01m.\u001b[39;00m\u001b[34;01mcore\u001b[39;00m\u001b[34;01m.\u001b[39;00m\u001b[34;01mconfig\u001b[39;00m\u001b[38;5;250m \u001b[39m\u001b[38;5;28;01mimport\u001b[39;00m (\n\u001b[32m     16\u001b[39m     DATA_DIR, get_data_path, validate_timeframe,\n\u001b[32m     17\u001b[39m     DATA_VALIDATION, SUPPORTED_TIMEFRAMES, TIMEFRAME_MAPPING\n\u001b[32m     18\u001b[39m )\n\u001b[32m     19\u001b[39m \u001b[38;5;28;01mfrom\u001b[39;00m\u001b[38;5;250m \u001b[39m\u001b[34;01m.\u001b[39;00m\u001b[34;01m.\u001b[39;00m\u001b[34;01mcore\u001b[39;00m\u001b[34;01m.\u001b[39;00m\u001b[34;01mexceptions\u001b[39;00m\u001b[38;5;250m \u001b[39m\u001b[38;5;28;01mimport\u001b[39;00m (\n\u001b[32m     20\u001b[39m     DataError, DataLoadingError, DataValidationError,\n\u001b[32m     21\u001b[39m     create_data_validation_error\n\u001b[32m     22\u001b[39m )\n",
      "\u001b[31mModuleNotFoundError\u001b[39m: No module named 'chardet'"
     ]
    }
   ],
   "source": [
    "# Импорты из bquant\n",
    "from bquant.core.config import (\n",
    "    get_data_dir, set_data_dir, PROJECT_ROOT\n",
    ")\n",
    "\n",
    "from bquant.data.loader import (\n",
    "    load_ohlcv_data, get_data_info, \n",
    "    get_available_symbols, get_available_timeframes\n",
    ")\n",
    "\n",
    "print(\"✅ BQuant modules imported successfully\")"
   ]
  },
  {
   "cell_type": "code",
   "execution_count": null,
   "metadata": {},
   "outputs": [
    {
     "name": "stdout",
     "output_type": "stream",
     "text": [
      "/mnt/c/Users/user/Documents/Pro/bquant\n",
      "/mnt/c/Users/user/Documents/Pro/bquant/data\n"
     ]
    }
   ],
   "source": [
    "print(PROJECT_ROOT)\n",
    "print(get_data_dir())"
   ]
  },
  {
   "cell_type": "markdown",
   "metadata": {},
   "source": [
    "## Шаг 1: Тестирование загрузки OANDA_XAUUSD, 60.csv\n",
    "\n",
    "Загружаем данные OANDA формата с валидацией"
   ]
  },
  {
   "cell_type": "code",
   "execution_count": null,
   "metadata": {},
   "outputs": [
    {
     "name": "stdout",
     "output_type": "stream",
     "text": [
      "🧪 Test 1: Loading OANDA_XAUUSD, 60.csv\n",
      "=============================================\n",
      "File path: /mnt/c/Users/user/Documents/Pro/bquant/data/OANDA_XAUUSD, 60.csv\n",
      "File exists: False\n",
      "❌ OANDA file not found\n"
     ]
    }
   ],
   "source": [
    "# Тест 1: Загрузка OANDA_XAUUSD, 60.csv\n",
    "print(\"🧪 Test 1: Loading OANDA_XAUUSD, 60.csv\")\n",
    "print(\"=\" * 45)\n",
    "\n",
    "oanda_file = get_data_dir() / \"OANDA_XAUUSD, 60.csv\"\n",
    "print(f\"File path: {oanda_file}\")\n",
    "print(f\"File exists: {oanda_file.exists()}\")\n",
    "\n",
    "if oanda_file.exists():\n",
    "    try:\n",
    "        # Загружаем данные с контекстом\n",
    "        oanda_data = load_ohlcv_data(\n",
    "            oanda_file, \n",
    "            symbol='XAUUSD', \n",
    "            timeframe='1h',\n",
    "            validate_data=True\n",
    "        )\n",
    "        \n",
    "        print(f\"✅ Data loaded successfully!\")\n",
    "        print(f\"Shape: {oanda_data.shape}\")\n",
    "        print(f\"Columns: {list(oanda_data.columns)}\")\n",
    "        print(f\"Date range: {oanda_data.index.min()} to {oanda_data.index.max()}\")\n",
    "        \n",
    "        print(f\"\\nFirst 3 rows:\")\n",
    "        print(oanda_data.head(3))\n",
    "        \n",
    "        # Получаем информацию о данных\n",
    "        data_info = get_data_info(oanda_data)\n",
    "        print(f\"\\n📊 Data Info:\")\n",
    "        print(f\"  Rows: {data_info['rows']}\")\n",
    "        print(f\"  Memory usage: {data_info['memory_usage_mb']:.2f} MB\")\n",
    "        print(f\"  Missing values: {data_info['missing_values']}\")\n",
    "        \n",
    "    except Exception as e:\n",
    "        print(f\"❌ Error loading OANDA data: {e}\")\n",
    "else:\n",
    "    print(\"❌ OANDA file not found\")"
   ]
  },
  {
   "cell_type": "code",
   "execution_count": null,
   "metadata": {},
   "outputs": [
    {
     "name": "stdout",
     "output_type": "stream",
     "text": [
      "🔧 Setting up data directory:\n",
      "Current data dir: /mnt/c/Users/user/Documents/Pro/bquant/data\n",
      "\n",
      "✅ New data directory: /mnt/c/Users/user/Documents/Pro/bquant/data/row\n",
      "✅ Directory exists: True\n",
      "\n",
      "📄 Found 4 CSV files:\n",
      "    OANDA_XAUUSD, 15.csv (3.38 MB)\n",
      "    OANDA_XAUUSD, 1D.csv (1.93 MB)\n",
      "    OANDA_XAUUSD, 60.csv (3.54 MB)\n",
      "    XAUUSDH1.csv (11.36 MB)\n"
     ]
    }
   ],
   "source": [
    "# Установка актуальной директории данных\n",
    "print(\"🔧 Setting up data directory:\")\n",
    "print(f\"Current data dir: {get_data_dir()}\")\n",
    "\n",
    "# Устанавливаем data/row как рабочую директорию\n",
    "raw_data_path = PROJECT_ROOT / \"data\" / \"row\"\n",
    "set_data_dir(raw_data_path)\n",
    "\n",
    "print(f\"\\n✅ New data directory: {get_data_dir()}\")\n",
    "print(f\"✅ Directory exists: {get_data_dir().exists()}\")\n",
    "\n",
    "# Проверяем содержимое\n",
    "if get_data_dir().exists():\n",
    "    csv_files = list(get_data_dir().glob(\"*.csv\"))\n",
    "    print(f\"\\n📄 Found {len(csv_files)} CSV files:\")\n",
    "    for csv_file in csv_files:\n",
    "        size_mb = csv_file.stat().st_size / (1024 * 1024)\n",
    "        print(f\"    {csv_file.name} ({size_mb:.2f} MB)\")\n",
    "else:\n",
    "    print(\"❌ Directory not found!\")"
   ]
  },
  {
   "cell_type": "code",
   "execution_count": null,
   "metadata": {},
   "outputs": [
    {
     "name": "stdout",
     "output_type": "stream",
     "text": [
      "/mnt/c/Users/user/Documents/Pro/bquant/data/row\n"
     ]
    }
   ],
   "source": [
    "print(get_data_dir())"
   ]
  },
  {
   "cell_type": "markdown",
   "metadata": {},
   "source": [
    "## Шаг 2: Тестирование загрузки XAUUSDH1.csv\n",
    "\n",
    "Загружаем данные MetaTrader формата"
   ]
  },
  {
   "cell_type": "code",
   "execution_count": null,
   "metadata": {},
   "outputs": [
    {
     "name": "stdout",
     "output_type": "stream",
     "text": [
      "🧪 Test 2: Loading XAUUSDH1.csv\n",
      "===================================\n",
      "File path: /mnt/c/Users/user/Documents/Pro/bquant/data/row/XAUUSDH1.csv\n",
      "File exists: True\n",
      "❌ Error loading MT data: Failed to read CSV file: 'utf-8' codec can't decode byte 0xff in position 0: invalid start byte (Details: file_path=/mnt/c/Users/user/Documents/Pro/bquant/data/row/XAUUSDH1.csv, error='utf-8' codec can't decode byte 0xff in position 0: invalid start byte)\n"
     ]
    },
    {
     "name": "stderr",
     "output_type": "stream",
     "text": [
      "/mnt/c/Users/user/Documents/Pro/bquant/bquant/data/loader.py:85: FutureWarning: The argument 'date_parser' is deprecated and will be removed in a future version. Please use 'date_format' instead, or read your data in as 'object' dtype and then call 'to_datetime'.\n",
      "  df = pd.read_csv(file_path, index_col=0, parse_dates=True, date_parser=date_parser)\n",
      "/mnt/c/Users/user/Documents/Pro/bquant/bquant/data/loader.py:87: FutureWarning: The argument 'date_parser' is deprecated and will be removed in a future version. Please use 'date_format' instead, or read your data in as 'object' dtype and then call 'to_datetime'.\n",
      "  df = pd.read_csv(file_path, parse_dates=['time'], date_parser=date_parser)\n"
     ]
    }
   ],
   "source": [
    "# Тест 2: Загрузка XAUUSDH1.csv\n",
    "print(\"🧪 Test 2: Loading XAUUSDH1.csv\")\n",
    "print(\"=\" * 35)\n",
    "\n",
    "mt_file = get_data_dir() / \"XAUUSDH1.csv\"\n",
    "print(f\"File path: {mt_file}\")\n",
    "print(f\"File exists: {mt_file.exists()}\")\n",
    "\n",
    "if mt_file.exists():\n",
    "    try:\n",
    "        # Загружаем данные MetaTrader формата\n",
    "        mt_data = load_ohlcv_data(\n",
    "            mt_file,\n",
    "            symbol='XAUUSD',\n",
    "            timeframe='1h',\n",
    "            validate_data=True\n",
    "        )\n",
    "        \n",
    "        print(f\"✅ Data loaded successfully!\")\n",
    "        print(f\"Shape: {mt_data.shape}\")\n",
    "        print(f\"Columns: {list(mt_data.columns)}\")\n",
    "        print(f\"Date range: {mt_data.index.min()} to {mt_data.index.max()}\")\n",
    "        \n",
    "        print(f\"\\nFirst 3 rows:\")\n",
    "        print(mt_data.head(3))\n",
    "        \n",
    "        # Информация о данных\n",
    "        mt_info = get_data_info(mt_data)\n",
    "        print(f\"\\n📊 Data Info:\")\n",
    "        print(f\"  Rows: {mt_info['rows']}\")\n",
    "        print(f\"  Memory usage: {mt_info['memory_usage_mb']:.2f} MB\")\n",
    "        print(f\"  Missing values: {mt_info['missing_values']}\")\n",
    "        \n",
    "    except Exception as e:\n",
    "        print(f\"❌ Error loading MT data: {e}\")\n",
    "else:\n",
    "    print(\"❌ MetaTrader file not found\")"
   ]
  },
  {
   "cell_type": "markdown",
   "metadata": {},
   "source": [
    "## Шаг 3: Сравнение источников данных\n",
    "\n",
    "Сравниваем OANDA и MetaTrader данные"
   ]
  },
  {
   "cell_type": "code",
   "execution_count": null,
   "metadata": {},
   "outputs": [],
   "source": [
    "# Тест 3: Сравнение источников данных\n",
    "print(\"🧪 Test 3: Comparing Data Sources\")\n",
    "print(\"=\" * 35)\n",
    "\n",
    "if 'oanda_data' in locals() and 'mt_data' in locals():\n",
    "    print(\"📊 Data Comparison:\")\n",
    "    print(f\"  OANDA shape: {oanda_data.shape}\")\n",
    "    print(f\"  MetaTrader shape: {mt_data.shape}\")\n",
    "    \n",
    "    # Сравниваем колонки\n",
    "    oanda_cols = set(oanda_data.columns)\n",
    "    mt_cols = set(mt_data.columns)\n",
    "    common_cols = oanda_cols.intersection(mt_cols)\n",
    "    \n",
    "    print(f\"\\n📋 Columns:\")\n",
    "    print(f\"  Common columns: {sorted(common_cols)}\")\n",
    "    print(f\"  OANDA only: {sorted(oanda_cols - mt_cols)}\")\n",
    "    print(f\"  MetaTrader only: {sorted(mt_cols - oanda_cols)}\")\n",
    "    \n",
    "    # Сравниваем временные диапазоны\n",
    "    if not oanda_data.index.empty and not mt_data.index.empty:\n",
    "        print(f\"\\n📅 Time Ranges:\")\n",
    "        print(f\"  OANDA: {oanda_data.index.min()} to {oanda_data.index.max()}\")\n",
    "        print(f\"  MetaTrader: {mt_data.index.min()} to {mt_data.index.max()}\")\n",
    "        \n",
    "        # Базовая статистика по ценам закрытия\n",
    "        if 'close' in common_cols:\n",
    "            print(f\"\\n💰 Close Price Stats:\")\n",
    "            print(f\"  OANDA - Mean: {oanda_data['close'].mean():.2f}, Std: {oanda_data['close'].std():.2f}\")\n",
    "            print(f\"  MetaTrader - Mean: {mt_data['close'].mean():.2f}, Std: {mt_data['close'].std():.2f}\")\n",
    "else:\n",
    "    print(\"⚠️ Cannot compare - one or both datasets not loaded\")"
   ]
  },
  {
   "cell_type": "code",
   "execution_count": null,
   "metadata": {},
   "outputs": [],
   "source": [
    "# Настройка логирования - только WARNING+ в консоль, все остальное в файл\n",
    "from bquant.core.logging_config import setup_logging\n",
    "import logging\n",
    "\n",
    "# Настраиваем логирование: WARNING+ в консоль, INFO+ в файл\n",
    "logger = setup_logging(\n",
    "    level=\"INFO\",           # Общий уровень для файла\n",
    "    log_to_file=True,       # Включить файловое логирование  \n",
    "    log_file=project_root / \"logs\" / \"notebook_testing.log\",\n",
    "    use_colors=False,       # Отключить цвета в ноутбуке\n",
    "    reset_loggers=True      # Сбросить существующие настройки\n",
    ")\n",
    "\n",
    "# Устанавливаем уровень WARNING для консольного вывода\n",
    "console_handler = None\n",
    "for handler in logging.getLogger('bquant').handlers:\n",
    "    if isinstance(handler, logging.StreamHandler) and handler.stream.name == '<stdout>':\n",
    "        handler.setLevel(logging.WARNING)\n",
    "        console_handler = handler\n",
    "        break\n",
    "\n",
    "print(\"✅ Logging configured:\")\n",
    "print(f\"  📝 File: INFO+ → {project_root}/logs/notebook_testing.log\") \n",
    "print(f\"  🖥️ Console: WARNING+ only\")\n",
    "print(f\"  📊 Console handler found: {'Yes' if console_handler else 'No'}\")"
   ]
  },
  {
   "cell_type": "markdown",
   "metadata": {},
   "source": [
    "## Шаг 4: Обзор доступных данных\n",
    "\n",
    "Анализируем все доступные символы и таймфреймы"
   ]
  },
  {
   "cell_type": "code",
   "execution_count": null,
   "metadata": {},
   "outputs": [],
   "source": [
    "# Тест 4: Обзор доступных данных\n",
    "print(\"🧪 Test 4: Data Overview\")\n",
    "print(\"=\" * 25)\n",
    "\n",
    "# Получаем список доступных символов и таймфреймов\n",
    "available_symbols = get_available_symbols(get_data_dir())\n",
    "print(f\"📈 Available symbols: {available_symbols}\")\n",
    "\n",
    "if available_symbols:\n",
    "    print(f\"\\n📊 Symbol Details:\")\n",
    "    for symbol in available_symbols:\n",
    "        timeframes = get_available_timeframes(symbol, get_data_dir())\n",
    "        print(f\"  {symbol}: {timeframes}\")\n",
    "else:\n",
    "    print(\"❌ No symbols detected in data directory\")\n",
    "\n",
    "print(f\"\\n📁 Total CSV files in directory: {len(list(get_data_dir().glob('*.csv')))}\")"
   ]
  },
  {
   "cell_type": "markdown",
   "metadata": {},
   "source": [
    "## 🚀 Следующие шаги тестирования Data Module\n",
    "\n",
    "### Предлагаемый план дальнейшего тестирования:\n",
    "\n",
    "#### 📋 **Шаг 5: Data Validator (02_validator.ipynb)**\n",
    "- **Валидация загруженных данных** через `validate_ohlcv_data()`\n",
    "- **Проверка полноты данных** `validate_data_completeness()`  \n",
    "- **Логическая согласованность цен** `validate_price_consistency()`\n",
    "- **Непрерывность временных рядов** `validate_time_series_continuity()`\n",
    "- **Статистические свойства** `validate_statistical_properties()`\n",
    "\n",
    "#### 🔄 **Шаг 6: Data Processor (03_processor.ipynb)**\n",
    "- **Очистка данных** `clean_ohlcv_data()` с разными параметрами\n",
    "- **Удаление выбросов** `remove_price_outliers()` (z-score vs IQR)\n",
    "- **Производные индикаторы** `calculate_derived_indicators()`\n",
    "- **Изменение таймфрейма** `resample_ohlcv()` (1h → 4h, 1d)\n",
    "- **Технические признаки** `add_technical_features()`\n",
    "- **Подготовка к анализу** `prepare_data_for_analysis()`\n",
    "\n",
    "#### 📊 **Шаг 7: Sample Data (04_samples.ipynb)** \n",
    "- **Embedded данные** `get_sample_data()` для разных форматов\n",
    "- **Список датасетов** `list_datasets()` и `get_dataset_info()`\n",
    "- **Валидация samples** `validate_dataset()`\n",
    "- **Сравнение embedded vs реальных данных**\n",
    "- **Генератор данных** `SampleDataGenerator`\n",
    "\n",
    "#### 🔗 **Шаг 8: Integration Testing (05_integration.ipynb)**\n",
    "- **Полный pipeline**: загрузка → валидация → обработка → анализ\n",
    "- **Сравнение результатов** на OANDA vs MetaTrader\n",
    "- **Производительность** на больших файлах\n",
    "- **Edge cases** и обработка ошибок\n",
    "- **Memory usage** и оптимизация\n",
    "\n",
    "#### ⚡ **Шаг 9: Performance & Optimization (06_performance.ipynb)**\n",
    "- **Бенчмарки** времени загрузки разных форматов\n",
    "- **Memory profiling** больших датасетов  \n",
    "- **Кэширование** и повторные загрузки\n",
    "- **Параллельная обработка** нескольких файлов\n",
    "\n",
    "### 🎯 **Критерии завершения тестирования:**\n",
    "- ✅ Все функции data модуля протестированы\n",
    "- ✅ Валидация проходит без критических ошибок\n",
    "- ✅ Производительность в приемлемых рамках\n",
    "- ✅ Edge cases обработаны корректно\n",
    "- ✅ Документированы найденные проблемы"
   ]
  },
  {
   "cell_type": "code",
   "execution_count": null,
   "metadata": {},
   "outputs": [],
   "source": []
  }
 ],
 "metadata": {
  "kernelspec": {
   "display_name": "Python 3",
   "language": "python",
   "name": "python3"
  }
 },
 "nbformat": 4,
 "nbformat_minor": 4
}
