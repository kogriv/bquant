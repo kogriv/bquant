{
 "cells": [
  {
   "cell_type": "code",
   "execution_count": null,
   "metadata": {},
   "outputs": [],
   "source": []
  },
  {
   "cell_type": "markdown",
   "metadata": {},
   "source": [
    "# 01. BQuant Data Module Testing\n",
    "\n",
    "Тестирование функций загрузки, обработки и валидации данных из модуля `bquant.data`.\n",
    "\n",
    "## План тестирования:\n",
    "1. **Настройка окружения** - импорты и установка директории данных\n",
    "2. **Тестирование loader** - загрузка CSV файлов  \n",
    "3. **Обзор доступных данных** - символы и таймфреймы"
   ]
  },
  {
   "cell_type": "code",
   "execution_count": 1,
   "metadata": {},
   "outputs": [
    {
     "name": "stdout",
     "output_type": "stream",
     "text": [
      "📁 Project root: c:\\Users\\Ivan\\Documents\\pro\\bquant\n",
      "🐍 Python path: c:\\Users\\Ivan\\Documents\\pro\\bquant\n",
      "📊 Pandas version: 2.3.1\n"
     ]
    }
   ],
   "source": [
    "# Настройка окружения\n",
    "import sys\n",
    "from pathlib import Path\n",
    "import pandas as pd\n",
    "import numpy as np\n",
    "\n",
    "# Добавляем путь к пакету bquant\n",
    "project_root = Path.cwd().parent.parent\n",
    "sys.path.insert(0, str(project_root))\n",
    "\n",
    "print(f\"📁 Project root: {project_root}\")\n",
    "print(f\"🐍 Python path: {sys.path[0]}\")\n",
    "print(f\"📊 Pandas version: {pd.__version__}\")"
   ]
  },
  {
   "cell_type": "code",
   "execution_count": 2,
   "metadata": {},
   "outputs": [
    {
     "name": "stdout",
     "output_type": "stream",
     "text": [
      "16:16:26 - bquant - INFO - Система логгирования BQuant инициализирована (консоль: INFO)\n",
      "16:16:26 - bquant - INFO - Логи сохраняются в файл: c:\\Users\\Ivan\\Documents\\pro\\bquant\\logs\\bquant.log (уровень: INFO)\n"
     ]
    },
    {
     "data": {
      "text/plain": [
       "<Logger bquant (DEBUG)>"
      ]
     },
     "execution_count": 2,
     "metadata": {},
     "output_type": "execute_result"
    }
   ],
   "source": [
    "from bquant.core.logging_config import setup_logging\n",
    "\n",
    "setup_logging(profile=\"research\")"
   ]
  },
  {
   "cell_type": "code",
   "execution_count": 3,
   "metadata": {},
   "outputs": [
    {
     "name": "stdout",
     "output_type": "stream",
     "text": [
      "✅ BQuant modules imported successfully\n"
     ]
    }
   ],
   "source": [
    "# Импорты из bquant\n",
    "from bquant.core.config import (\n",
    "    get_data_dir, set_data_dir, set_data_dir, reset_directories_to_defaults, PROJECT_ROOT\n",
    ")\n",
    "\n",
    "from bquant.data.loader import (\n",
    "    load_ohlcv_data, get_data_info, load_symbol_data,\n",
    "    get_available_symbols, get_available_timeframes\n",
    ")\n",
    "\n",
    "from bquant.data.samples import (\n",
    "    get_sample_data,\n",
    "    list_datasets,\n",
    "    get_dataset_info\n",
    ")\n",
    "print(\"✅ BQuant modules imported successfully\")"
   ]
  },
  {
   "cell_type": "code",
   "execution_count": 4,
   "metadata": {},
   "outputs": [],
   "source": [
    "reset_directories_to_defaults()"
   ]
  },
  {
   "cell_type": "code",
   "execution_count": 5,
   "metadata": {},
   "outputs": [
    {
     "name": "stdout",
     "output_type": "stream",
     "text": [
      "c:\\Users\\Ivan\\Documents\\pro\\bquant\n",
      "c:\\Users\\Ivan\\Documents\\pro\\bquant\\data\n",
      "c:\\Users\\Ivan\\Documents\\pro\\bquant\\data\\row\n"
     ]
    }
   ],
   "source": [
    "print(PROJECT_ROOT)\n",
    "print(get_data_dir())\n",
    "set_data_dir(PROJECT_ROOT/\"data\"/\"row\")\n",
    "print(get_data_dir())"
   ]
  },
  {
   "cell_type": "markdown",
   "metadata": {},
   "source": [
    "## Шаг 1: Тестирование загрузки OANDA_XAUUSD, 60.csv\n",
    "\n",
    "Загружаем данные OANDA формата с валидацией"
   ]
  },
  {
   "cell_type": "code",
   "execution_count": 6,
   "metadata": {},
   "outputs": [
    {
     "name": "stdout",
     "output_type": "stream",
     "text": [
      "XAUUSD ['1D', '60', 'H1', 'M15']\n"
     ]
    }
   ],
   "source": [
    "symbols = get_available_symbols()\n",
    "for sym in symbols:\n",
    "    print(sym, get_available_timeframes(sym))\n"
   ]
  },
  {
   "cell_type": "code",
   "execution_count": 7,
   "metadata": {},
   "outputs": [],
   "source": [
    "dftv = load_symbol_data(\"XAUUSD\",\"1h\",data_source=\"tradingview\",quote_provider=\"oanda\")"
   ]
  },
  {
   "cell_type": "code",
   "execution_count": 8,
   "metadata": {},
   "outputs": [
    {
     "data": {
      "text/html": [
       "<div>\n",
       "<style scoped>\n",
       "    .dataframe tbody tr th:only-of-type {\n",
       "        vertical-align: middle;\n",
       "    }\n",
       "\n",
       "    .dataframe tbody tr th {\n",
       "        vertical-align: top;\n",
       "    }\n",
       "\n",
       "    .dataframe thead th {\n",
       "        text-align: right;\n",
       "    }\n",
       "</style>\n",
       "<table border=\"1\" class=\"dataframe\">\n",
       "  <thead>\n",
       "    <tr style=\"text-align: right;\">\n",
       "      <th></th>\n",
       "      <th>open</th>\n",
       "      <th>high</th>\n",
       "      <th>low</th>\n",
       "      <th>close</th>\n",
       "      <th>volume</th>\n",
       "      <th>accumulation/distribution</th>\n",
       "      <th>macd</th>\n",
       "      <th>signal</th>\n",
       "      <th>rsi</th>\n",
       "      <th>rsi-based ma</th>\n",
       "      <th>regular bullish</th>\n",
       "      <th>regular bullish label</th>\n",
       "      <th>regular bearish</th>\n",
       "      <th>regular bearish label</th>\n",
       "    </tr>\n",
       "    <tr>\n",
       "      <th>time</th>\n",
       "      <th></th>\n",
       "      <th></th>\n",
       "      <th></th>\n",
       "      <th></th>\n",
       "      <th></th>\n",
       "      <th></th>\n",
       "      <th></th>\n",
       "      <th></th>\n",
       "      <th></th>\n",
       "      <th></th>\n",
       "      <th></th>\n",
       "      <th></th>\n",
       "      <th></th>\n",
       "      <th></th>\n",
       "    </tr>\n",
       "  </thead>\n",
       "  <tbody>\n",
       "    <tr>\n",
       "      <th>2022-01-03 06:00:00+07:00</th>\n",
       "      <td>1828.775</td>\n",
       "      <td>1831.835</td>\n",
       "      <td>1828.090</td>\n",
       "      <td>1828.510</td>\n",
       "      <td>687</td>\n",
       "      <td>-532.906542</td>\n",
       "      <td>NaN</td>\n",
       "      <td>NaN</td>\n",
       "      <td>NaN</td>\n",
       "      <td>NaN</td>\n",
       "      <td>NaN</td>\n",
       "      <td>NaN</td>\n",
       "      <td>NaN</td>\n",
       "      <td>NaN</td>\n",
       "    </tr>\n",
       "    <tr>\n",
       "      <th>2022-01-03 07:00:00+07:00</th>\n",
       "      <td>1828.510</td>\n",
       "      <td>1831.095</td>\n",
       "      <td>1827.126</td>\n",
       "      <td>1830.370</td>\n",
       "      <td>998</td>\n",
       "      <td>100.492803</td>\n",
       "      <td>NaN</td>\n",
       "      <td>NaN</td>\n",
       "      <td>NaN</td>\n",
       "      <td>NaN</td>\n",
       "      <td>NaN</td>\n",
       "      <td>NaN</td>\n",
       "      <td>NaN</td>\n",
       "      <td>NaN</td>\n",
       "    </tr>\n",
       "    <tr>\n",
       "      <th>2022-01-03 08:00:00+07:00</th>\n",
       "      <td>1830.370</td>\n",
       "      <td>1831.646</td>\n",
       "      <td>1827.705</td>\n",
       "      <td>1828.915</td>\n",
       "      <td>1032</td>\n",
       "      <td>-297.800016</td>\n",
       "      <td>NaN</td>\n",
       "      <td>NaN</td>\n",
       "      <td>NaN</td>\n",
       "      <td>NaN</td>\n",
       "      <td>NaN</td>\n",
       "      <td>NaN</td>\n",
       "      <td>NaN</td>\n",
       "      <td>NaN</td>\n",
       "    </tr>\n",
       "    <tr>\n",
       "      <th>2022-01-03 09:00:00+07:00</th>\n",
       "      <td>1828.915</td>\n",
       "      <td>1828.955</td>\n",
       "      <td>1825.710</td>\n",
       "      <td>1826.240</td>\n",
       "      <td>737</td>\n",
       "      <td>-794.054254</td>\n",
       "      <td>NaN</td>\n",
       "      <td>NaN</td>\n",
       "      <td>NaN</td>\n",
       "      <td>NaN</td>\n",
       "      <td>NaN</td>\n",
       "      <td>NaN</td>\n",
       "      <td>NaN</td>\n",
       "      <td>NaN</td>\n",
       "    </tr>\n",
       "    <tr>\n",
       "      <th>2022-01-03 10:00:00+07:00</th>\n",
       "      <td>1826.240</td>\n",
       "      <td>1826.976</td>\n",
       "      <td>1824.285</td>\n",
       "      <td>1825.820</td>\n",
       "      <td>624</td>\n",
       "      <td>-706.170196</td>\n",
       "      <td>NaN</td>\n",
       "      <td>NaN</td>\n",
       "      <td>NaN</td>\n",
       "      <td>NaN</td>\n",
       "      <td>NaN</td>\n",
       "      <td>NaN</td>\n",
       "      <td>NaN</td>\n",
       "      <td>NaN</td>\n",
       "    </tr>\n",
       "  </tbody>\n",
       "</table>\n",
       "</div>"
      ],
      "text/plain": [
       "                               open      high       low     close  volume  \\\n",
       "time                                                                        \n",
       "2022-01-03 06:00:00+07:00  1828.775  1831.835  1828.090  1828.510     687   \n",
       "2022-01-03 07:00:00+07:00  1828.510  1831.095  1827.126  1830.370     998   \n",
       "2022-01-03 08:00:00+07:00  1830.370  1831.646  1827.705  1828.915    1032   \n",
       "2022-01-03 09:00:00+07:00  1828.915  1828.955  1825.710  1826.240     737   \n",
       "2022-01-03 10:00:00+07:00  1826.240  1826.976  1824.285  1825.820     624   \n",
       "\n",
       "                           accumulation/distribution  macd  signal  rsi  \\\n",
       "time                                                                      \n",
       "2022-01-03 06:00:00+07:00                -532.906542   NaN     NaN  NaN   \n",
       "2022-01-03 07:00:00+07:00                 100.492803   NaN     NaN  NaN   \n",
       "2022-01-03 08:00:00+07:00                -297.800016   NaN     NaN  NaN   \n",
       "2022-01-03 09:00:00+07:00                -794.054254   NaN     NaN  NaN   \n",
       "2022-01-03 10:00:00+07:00                -706.170196   NaN     NaN  NaN   \n",
       "\n",
       "                           rsi-based ma  regular bullish  \\\n",
       "time                                                       \n",
       "2022-01-03 06:00:00+07:00           NaN              NaN   \n",
       "2022-01-03 07:00:00+07:00           NaN              NaN   \n",
       "2022-01-03 08:00:00+07:00           NaN              NaN   \n",
       "2022-01-03 09:00:00+07:00           NaN              NaN   \n",
       "2022-01-03 10:00:00+07:00           NaN              NaN   \n",
       "\n",
       "                           regular bullish label  regular bearish  \\\n",
       "time                                                                \n",
       "2022-01-03 06:00:00+07:00                    NaN              NaN   \n",
       "2022-01-03 07:00:00+07:00                    NaN              NaN   \n",
       "2022-01-03 08:00:00+07:00                    NaN              NaN   \n",
       "2022-01-03 09:00:00+07:00                    NaN              NaN   \n",
       "2022-01-03 10:00:00+07:00                    NaN              NaN   \n",
       "\n",
       "                           regular bearish label  \n",
       "time                                              \n",
       "2022-01-03 06:00:00+07:00                    NaN  \n",
       "2022-01-03 07:00:00+07:00                    NaN  \n",
       "2022-01-03 08:00:00+07:00                    NaN  \n",
       "2022-01-03 09:00:00+07:00                    NaN  \n",
       "2022-01-03 10:00:00+07:00                    NaN  "
      ]
     },
     "execution_count": 8,
     "metadata": {},
     "output_type": "execute_result"
    }
   ],
   "source": [
    "dftv.head()"
   ]
  },
  {
   "cell_type": "code",
   "execution_count": 9,
   "metadata": {},
   "outputs": [
    {
     "data": {
      "text/plain": [
       "dict_keys(['rows', 'columns', 'date_range', 'memory_usage_mb', 'missing_values', 'data_types'])"
      ]
     },
     "execution_count": 9,
     "metadata": {},
     "output_type": "execute_result"
    }
   ],
   "source": [
    "dftv_info = get_data_info(dftv)\n",
    "dftv_info.keys()"
   ]
  },
  {
   "cell_type": "code",
   "execution_count": 10,
   "metadata": {},
   "outputs": [
    {
     "name": "stdout",
     "output_type": "stream",
     "text": [
      "\n",
      "📊 Data Info:\n",
      "  Rows: 21357\n",
      "  Memory usage: 2.44 MB\n",
      "  Missing values: {'open': 0, 'high': 0, 'low': 0, 'close': 0, 'volume': 0, 'accumulation/distribution': 0, 'macd': 25, 'signal': 33, 'rsi': 14, 'rsi-based ma': 27, 'regular bullish': 21357, 'regular bullish label': 21357, 'regular bearish': 21357, 'regular bearish label': 21357}\n"
     ]
    }
   ],
   "source": [
    "print(f\"\\n📊 Data Info:\")\n",
    "print(f\"  Rows: {dftv_info['rows']}\")\n",
    "print(f\"  Memory usage: {dftv_info['memory_usage_mb']:.2f} MB\")\n",
    "print(f\"  Missing values: {dftv_info['missing_values']}\")"
   ]
  },
  {
   "cell_type": "code",
   "execution_count": 20,
   "metadata": {},
   "outputs": [
    {
     "name": "stdout",
     "output_type": "stream",
     "text": [
      "<class 'pandas.core.frame.DataFrame'>\n",
      "DatetimeIndex: 21357 entries, 2022-01-03 06:00:00+07:00 to 2025-08-12 13:00:00+07:00\n",
      "Data columns (total 14 columns):\n",
      " #   Column                     Non-Null Count  Dtype  \n",
      "---  ------                     --------------  -----  \n",
      " 0   open                       21357 non-null  float64\n",
      " 1   high                       21357 non-null  float64\n",
      " 2   low                        21357 non-null  float64\n",
      " 3   close                      21357 non-null  float64\n",
      " 4   volume                     21357 non-null  int64  \n",
      " 5   accumulation/distribution  21357 non-null  float64\n",
      " 6   macd                       21332 non-null  float64\n",
      " 7   signal                     21324 non-null  float64\n",
      " 8   rsi                        21343 non-null  float64\n",
      " 9   rsi-based ma               21330 non-null  float64\n",
      " 10  regular bullish            0 non-null      float64\n",
      " 11  regular bullish label      0 non-null      float64\n",
      " 12  regular bearish            0 non-null      float64\n",
      " 13  regular bearish label      0 non-null      float64\n",
      "dtypes: float64(13), int64(1)\n",
      "memory usage: 2.4 MB\n"
     ]
    }
   ],
   "source": [
    "dftv.info()"
   ]
  },
  {
   "cell_type": "code",
   "execution_count": 21,
   "metadata": {},
   "outputs": [
    {
     "data": {
      "text/plain": [
       "pandas.core.indexes.datetimes.DatetimeIndex"
      ]
     },
     "execution_count": 21,
     "metadata": {},
     "output_type": "execute_result"
    }
   ],
   "source": [
    "type(dftv.index)"
   ]
  },
  {
   "cell_type": "markdown",
   "metadata": {},
   "source": [
    "## Шаг 2: Тестирование загрузки XAUUSDH1.csv\n",
    "\n",
    "Загружаем данные MetaTrader формата"
   ]
  },
  {
   "cell_type": "code",
   "execution_count": 11,
   "metadata": {},
   "outputs": [
    {
     "name": "stdout",
     "output_type": "stream",
     "text": [
      "\n",
      "📊 Data Info:\n",
      "  Rows: 85689\n",
      "  Memory usage: 4.58 MB\n",
      "  Missing values: {'open': 0, 'high': 0, 'low': 0, 'close': 0, 'volume': 0, 'col_6': 0}\n"
     ]
    }
   ],
   "source": [
    "mt_file = get_data_dir() / \"XAUUSDH1.csv\"\n",
    "dfmt = load_ohlcv_data(\n",
    "            mt_file,\n",
    "            symbol='XAUUSD',\n",
    "            timeframe='1h',\n",
    "            validate_data=True\n",
    "        )\n",
    "\n",
    "dfmt_info = get_data_info(dfmt)\n",
    "print(f\"\\n📊 Data Info:\")\n",
    "print(f\"  Rows: {dfmt_info['rows']}\")\n",
    "print(f\"  Memory usage: {dfmt_info['memory_usage_mb']:.2f} MB\")\n",
    "print(f\"  Missing values: {dfmt_info['missing_values']}\")\n"
   ]
  },
  {
   "cell_type": "code",
   "execution_count": 17,
   "metadata": {},
   "outputs": [
    {
     "name": "stdout",
     "output_type": "stream",
     "text": [
      "<class 'pandas.core.frame.DataFrame'>\n",
      "DatetimeIndex: 85689 entries, 2000-06-20 00:00:00 to 2025-08-22 16:00:00\n",
      "Data columns (total 6 columns):\n",
      " #   Column  Non-Null Count  Dtype  \n",
      "---  ------  --------------  -----  \n",
      " 0   open    85689 non-null  float64\n",
      " 1   high    85689 non-null  float64\n",
      " 2   low     85689 non-null  float64\n",
      " 3   close   85689 non-null  float64\n",
      " 4   volume  85689 non-null  int64  \n",
      " 5   col_6   85689 non-null  int64  \n",
      "dtypes: float64(4), int64(2)\n",
      "memory usage: 4.6 MB\n"
     ]
    }
   ],
   "source": [
    "dfmt.info()"
   ]
  },
  {
   "cell_type": "code",
   "execution_count": 18,
   "metadata": {},
   "outputs": [
    {
     "data": {
      "text/plain": [
       "pandas.core.indexes.datetimes.DatetimeIndex"
      ]
     },
     "execution_count": 18,
     "metadata": {},
     "output_type": "execute_result"
    }
   ],
   "source": [
    "type(dfmt.index)"
   ]
  },
  {
   "cell_type": "code",
   "execution_count": 19,
   "metadata": {},
   "outputs": [
    {
     "data": {
      "text/html": [
       "<div>\n",
       "<style scoped>\n",
       "    .dataframe tbody tr th:only-of-type {\n",
       "        vertical-align: middle;\n",
       "    }\n",
       "\n",
       "    .dataframe tbody tr th {\n",
       "        vertical-align: top;\n",
       "    }\n",
       "\n",
       "    .dataframe thead th {\n",
       "        text-align: right;\n",
       "    }\n",
       "</style>\n",
       "<table border=\"1\" class=\"dataframe\">\n",
       "  <thead>\n",
       "    <tr style=\"text-align: right;\">\n",
       "      <th></th>\n",
       "      <th>open</th>\n",
       "      <th>high</th>\n",
       "      <th>low</th>\n",
       "      <th>close</th>\n",
       "      <th>volume</th>\n",
       "      <th>col_6</th>\n",
       "    </tr>\n",
       "    <tr>\n",
       "      <th>time</th>\n",
       "      <th></th>\n",
       "      <th></th>\n",
       "      <th></th>\n",
       "      <th></th>\n",
       "      <th></th>\n",
       "      <th></th>\n",
       "    </tr>\n",
       "  </thead>\n",
       "  <tbody>\n",
       "    <tr>\n",
       "      <th>2000-06-20</th>\n",
       "      <td>285.25</td>\n",
       "      <td>288.10</td>\n",
       "      <td>284.85</td>\n",
       "      <td>286.75</td>\n",
       "      <td>501</td>\n",
       "      <td>0</td>\n",
       "    </tr>\n",
       "    <tr>\n",
       "      <th>2000-06-21</th>\n",
       "      <td>285.75</td>\n",
       "      <td>288.05</td>\n",
       "      <td>285.10</td>\n",
       "      <td>286.40</td>\n",
       "      <td>526</td>\n",
       "      <td>0</td>\n",
       "    </tr>\n",
       "    <tr>\n",
       "      <th>2000-06-22</th>\n",
       "      <td>285.65</td>\n",
       "      <td>289.95</td>\n",
       "      <td>284.40</td>\n",
       "      <td>285.90</td>\n",
       "      <td>1086</td>\n",
       "      <td>0</td>\n",
       "    </tr>\n",
       "    <tr>\n",
       "      <th>2000-06-23</th>\n",
       "      <td>285.05</td>\n",
       "      <td>287.15</td>\n",
       "      <td>282.20</td>\n",
       "      <td>283.40</td>\n",
       "      <td>826</td>\n",
       "      <td>0</td>\n",
       "    </tr>\n",
       "    <tr>\n",
       "      <th>2000-06-26</th>\n",
       "      <td>282.90</td>\n",
       "      <td>285.20</td>\n",
       "      <td>281.55</td>\n",
       "      <td>284.20</td>\n",
       "      <td>601</td>\n",
       "      <td>0</td>\n",
       "    </tr>\n",
       "  </tbody>\n",
       "</table>\n",
       "</div>"
      ],
      "text/plain": [
       "              open    high     low   close  volume  col_6\n",
       "time                                                     \n",
       "2000-06-20  285.25  288.10  284.85  286.75     501      0\n",
       "2000-06-21  285.75  288.05  285.10  286.40     526      0\n",
       "2000-06-22  285.65  289.95  284.40  285.90    1086      0\n",
       "2000-06-23  285.05  287.15  282.20  283.40     826      0\n",
       "2000-06-26  282.90  285.20  281.55  284.20     601      0"
      ]
     },
     "execution_count": 19,
     "metadata": {},
     "output_type": "execute_result"
    }
   ],
   "source": [
    "dfmt.head()"
   ]
  },
  {
   "cell_type": "markdown",
   "metadata": {},
   "source": [
    "# Работа с встроенными sample-данными"
   ]
  },
  {
   "cell_type": "code",
   "execution_count": 12,
   "metadata": {},
   "outputs": [],
   "source": [
    "# list_datasets()"
   ]
  },
  {
   "cell_type": "code",
   "execution_count": 13,
   "metadata": {},
   "outputs": [],
   "source": [
    "# get_dataset_info('tv_xauusd_1h')"
   ]
  },
  {
   "cell_type": "code",
   "execution_count": 14,
   "metadata": {},
   "outputs": [
    {
     "data": {
      "text/html": [
       "<div>\n",
       "<style scoped>\n",
       "    .dataframe tbody tr th:only-of-type {\n",
       "        vertical-align: middle;\n",
       "    }\n",
       "\n",
       "    .dataframe tbody tr th {\n",
       "        vertical-align: top;\n",
       "    }\n",
       "\n",
       "    .dataframe thead th {\n",
       "        text-align: right;\n",
       "    }\n",
       "</style>\n",
       "<table border=\"1\" class=\"dataframe\">\n",
       "  <thead>\n",
       "    <tr style=\"text-align: right;\">\n",
       "      <th></th>\n",
       "      <th>time</th>\n",
       "      <th>open</th>\n",
       "      <th>high</th>\n",
       "      <th>low</th>\n",
       "      <th>close</th>\n",
       "      <th>volume</th>\n",
       "      <th>accumulation_distribution</th>\n",
       "      <th>macd</th>\n",
       "      <th>signal</th>\n",
       "      <th>rsi</th>\n",
       "      <th>rsi_based_ma</th>\n",
       "      <th>regular_bullish</th>\n",
       "      <th>regular_bullish_label</th>\n",
       "      <th>regular_bearish</th>\n",
       "      <th>regular_bearish_label</th>\n",
       "    </tr>\n",
       "  </thead>\n",
       "  <tbody>\n",
       "    <tr>\n",
       "      <th>0</th>\n",
       "      <td>2025-06-11 20:00:00+07:00</td>\n",
       "      <td>3336.940</td>\n",
       "      <td>3344.770</td>\n",
       "      <td>3327.950</td>\n",
       "      <td>3330.000</td>\n",
       "      <td>54323.0</td>\n",
       "      <td>6.642770e+06</td>\n",
       "      <td>1.940145</td>\n",
       "      <td>2.765371</td>\n",
       "      <td>47.827521</td>\n",
       "      <td>55.231967</td>\n",
       "      <td>None</td>\n",
       "      <td>None</td>\n",
       "      <td>None</td>\n",
       "      <td>None</td>\n",
       "    </tr>\n",
       "    <tr>\n",
       "      <th>1</th>\n",
       "      <td>2025-06-11 21:00:00+07:00</td>\n",
       "      <td>3329.980</td>\n",
       "      <td>3341.310</td>\n",
       "      <td>3328.575</td>\n",
       "      <td>3337.635</td>\n",
       "      <td>37324.0</td>\n",
       "      <td>6.658553e+06</td>\n",
       "      <td>2.030300</td>\n",
       "      <td>2.618357</td>\n",
       "      <td>53.656385</td>\n",
       "      <td>55.138886</td>\n",
       "      <td>None</td>\n",
       "      <td>None</td>\n",
       "      <td>None</td>\n",
       "      <td>None</td>\n",
       "    </tr>\n",
       "    <tr>\n",
       "      <th>2</th>\n",
       "      <td>2025-06-11 22:00:00+07:00</td>\n",
       "      <td>3337.715</td>\n",
       "      <td>3342.930</td>\n",
       "      <td>3329.655</td>\n",
       "      <td>3333.220</td>\n",
       "      <td>22725.0</td>\n",
       "      <td>6.648033e+06</td>\n",
       "      <td>1.725604</td>\n",
       "      <td>2.439806</td>\n",
       "      <td>50.166113</td>\n",
       "      <td>55.035372</td>\n",
       "      <td>None</td>\n",
       "      <td>None</td>\n",
       "      <td>None</td>\n",
       "      <td>None</td>\n",
       "    </tr>\n",
       "    <tr>\n",
       "      <th>3</th>\n",
       "      <td>2025-06-11 23:00:00+07:00</td>\n",
       "      <td>3333.265</td>\n",
       "      <td>3334.570</td>\n",
       "      <td>3328.185</td>\n",
       "      <td>3330.390</td>\n",
       "      <td>16495.0</td>\n",
       "      <td>6.642931e+06</td>\n",
       "      <td>1.241461</td>\n",
       "      <td>2.200137</td>\n",
       "      <td>48.010293</td>\n",
       "      <td>54.292673</td>\n",
       "      <td>None</td>\n",
       "      <td>None</td>\n",
       "      <td>None</td>\n",
       "      <td>None</td>\n",
       "    </tr>\n",
       "    <tr>\n",
       "      <th>4</th>\n",
       "      <td>2025-06-12 00:00:00+07:00</td>\n",
       "      <td>3330.410</td>\n",
       "      <td>3331.435</td>\n",
       "      <td>3319.380</td>\n",
       "      <td>3324.365</td>\n",
       "      <td>21476.0</td>\n",
       "      <td>6.639217e+06</td>\n",
       "      <td>0.367373</td>\n",
       "      <td>1.833584</td>\n",
       "      <td>43.704225</td>\n",
       "      <td>53.189298</td>\n",
       "      <td>None</td>\n",
       "      <td>None</td>\n",
       "      <td>None</td>\n",
       "      <td>None</td>\n",
       "    </tr>\n",
       "  </tbody>\n",
       "</table>\n",
       "</div>"
      ],
      "text/plain": [
       "                       time      open      high       low     close   volume  \\\n",
       "0 2025-06-11 20:00:00+07:00  3336.940  3344.770  3327.950  3330.000  54323.0   \n",
       "1 2025-06-11 21:00:00+07:00  3329.980  3341.310  3328.575  3337.635  37324.0   \n",
       "2 2025-06-11 22:00:00+07:00  3337.715  3342.930  3329.655  3333.220  22725.0   \n",
       "3 2025-06-11 23:00:00+07:00  3333.265  3334.570  3328.185  3330.390  16495.0   \n",
       "4 2025-06-12 00:00:00+07:00  3330.410  3331.435  3319.380  3324.365  21476.0   \n",
       "\n",
       "   accumulation_distribution      macd    signal        rsi  rsi_based_ma  \\\n",
       "0               6.642770e+06  1.940145  2.765371  47.827521     55.231967   \n",
       "1               6.658553e+06  2.030300  2.618357  53.656385     55.138886   \n",
       "2               6.648033e+06  1.725604  2.439806  50.166113     55.035372   \n",
       "3               6.642931e+06  1.241461  2.200137  48.010293     54.292673   \n",
       "4               6.639217e+06  0.367373  1.833584  43.704225     53.189298   \n",
       "\n",
       "  regular_bullish regular_bullish_label regular_bearish regular_bearish_label  \n",
       "0            None                  None            None                  None  \n",
       "1            None                  None            None                  None  \n",
       "2            None                  None            None                  None  \n",
       "3            None                  None            None                  None  \n",
       "4            None                  None            None                  None  "
      ]
     },
     "execution_count": 14,
     "metadata": {},
     "output_type": "execute_result"
    }
   ],
   "source": [
    "df_sample_tv = get_sample_data('tv_xauusd_1h')\n",
    "df_sample_tv.head()"
   ]
  },
  {
   "cell_type": "code",
   "execution_count": 16,
   "metadata": {},
   "outputs": [
    {
     "name": "stdout",
     "output_type": "stream",
     "text": [
      "<class 'pandas.core.frame.DataFrame'>\n",
      "RangeIndex: 1000 entries, 0 to 999\n",
      "Data columns (total 15 columns):\n",
      " #   Column                     Non-Null Count  Dtype                    \n",
      "---  ------                     --------------  -----                    \n",
      " 0   time                       1000 non-null   datetime64[ns, UTC+07:00]\n",
      " 1   open                       1000 non-null   float64                  \n",
      " 2   high                       1000 non-null   float64                  \n",
      " 3   low                        1000 non-null   float64                  \n",
      " 4   close                      1000 non-null   float64                  \n",
      " 5   volume                     1000 non-null   float64                  \n",
      " 6   accumulation_distribution  1000 non-null   float64                  \n",
      " 7   macd                       1000 non-null   float64                  \n",
      " 8   signal                     1000 non-null   float64                  \n",
      " 9   rsi                        1000 non-null   float64                  \n",
      " 10  rsi_based_ma               1000 non-null   float64                  \n",
      " 11  regular_bullish            0 non-null      object                   \n",
      " 12  regular_bullish_label      0 non-null      object                   \n",
      " 13  regular_bearish            0 non-null      object                   \n",
      " 14  regular_bearish_label      0 non-null      object                   \n",
      "dtypes: datetime64[ns, UTC+07:00](1), float64(10), object(4)\n",
      "memory usage: 117.3+ KB\n"
     ]
    }
   ],
   "source": [
    "df_sample_tv.info()"
   ]
  },
  {
   "cell_type": "code",
   "execution_count": null,
   "metadata": {},
   "outputs": [],
   "source": []
  }
 ],
 "metadata": {
  "kernelspec": {
   "display_name": "venv_bquant_dell_win",
   "language": "python",
   "name": "python3"
  },
  "language_info": {
   "codemirror_mode": {
    "name": "ipython",
    "version": 3
   },
   "file_extension": ".py",
   "mimetype": "text/x-python",
   "name": "python",
   "nbconvert_exporter": "python",
   "pygments_lexer": "ipython3",
   "version": "3.13.5"
  }
 },
 "nbformat": 4,
 "nbformat_minor": 4
}
