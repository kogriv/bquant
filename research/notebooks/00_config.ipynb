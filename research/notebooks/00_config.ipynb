{
 "cells": [
  {
   "cell_type": "markdown",
   "metadata": {},
   "source": [
    "\n",
    "## Шаг 0: Проверка конфигурации\n",
    "\n",
    "Начинаем с проверки базовых настроек и путей из core.config."
   ]
  },
  {
   "cell_type": "code",
   "execution_count": 3,
   "metadata": {},
   "outputs": [],
   "source": [
    "# Импорты и настройка окружения\n",
    "import sys\n",
    "from pathlib import Path"
   ]
  },
  {
   "cell_type": "code",
   "execution_count": 5,
   "metadata": {},
   "outputs": [
    {
     "name": "stdout",
     "output_type": "stream",
     "text": [
      "🔧 Testing Jupyter kernel connection\n",
      "Python version: 3.13.5 (main, Aug 29 2025, 16:30:45) [GCC 11.4.0]\n",
      "Current working directory: /mnt/c/Users/user/Documents/Pro/bquant/research/notebooks\n",
      "Python path includes: 6 entries\n"
     ]
    }
   ],
   "source": [
    "# Проверяем, работает ли kernel\n",
    "print(\"🔧 Testing Jupyter kernel connection\")\n",
    "print(f\"Python version: {__import__('sys').version}\")\n",
    "print(f\"Current working directory: {__import__('os').getcwd()}\")\n",
    "print(f\"Python path includes: {len(sys.path)} entries\")"
   ]
  },
  {
   "cell_type": "code",
   "execution_count": 6,
   "metadata": {},
   "outputs": [
    {
     "name": "stdout",
     "output_type": "stream",
     "text": [
      "Project root: /mnt/c/Users/user/Documents/Pro/bquant\n",
      "Python path: /mnt/c/Users/user/Documents/Pro/bquant\n"
     ]
    }
   ],
   "source": [
    "# Добавляем путь к пакету bquant\n",
    "project_root = Path.cwd().parent.parent\n",
    "sys.path.insert(0, str(project_root))\n",
    "\n",
    "print(f\"Project root: {project_root}\")\n",
    "print(f\"Python path: {sys.path[0]}\")"
   ]
  },
  {
   "cell_type": "code",
   "execution_count": 7,
   "metadata": {},
   "outputs": [
    {
     "name": "stdout",
     "output_type": "stream",
     "text": [
      "🔧 BQuant Configuration Info\n",
      "========================================\n",
      "\n",
      "📁 Project Structure:\n",
      "  PROJECT_ROOT: /mnt/c/Users/user/Documents/Pro/bquant\n",
      "  DATA_DIR: /mnt/c/Users/user/Documents/Pro/bquant/data\n",
      "  NOTEBOOKS_DIR: /mnt/c/Users/user/Documents/Pro/bquant/research/notebooks\n",
      "  PROCESSED_DATA_DIR: /mnt/c/Users/user/Documents/Pro/bquant/data/processed\n",
      "  RESULTS_DIR: /mnt/c/Users/user/Documents/Pro/bquant/results\n",
      "\n",
      "📊 Data Validation Settings:\n",
      "  required_columns: ['open', 'high', 'low', 'close']\n",
      "  optional_columns: ['volume']\n",
      "  min_records: 100\n",
      "  max_missing_ratio: 0.1\n",
      "  outlier_threshold: 3.0\n",
      "\n",
      "⏱️ Supported Timeframes (27 total):\n",
      "  1m: 1 minute\n",
      "  2m: 2 minutes\n",
      "  3m: 3 minutes\n",
      "  4m: 4 minutes\n",
      "  5m: 5 minutes\n",
      "  6m: 6 minutes\n",
      "  10m: 10 minutes\n",
      "  12m: 12 minutes\n",
      "  15m: 15 minutes\n",
      "  20m: 20 minutes\n",
      "  ... и еще 17 таймфреймов\n"
     ]
    }
   ],
   "source": [
    "# Импорт конфигурации\n",
    "from bquant.core.config import *\n",
    "\n",
    "print(\"🔧 BQuant Configuration Info\")\n",
    "print(\"=\" * 40)\n",
    "\n",
    "print(f\"\\n📁 Project Structure:\")\n",
    "print(f\"  PROJECT_ROOT: {PROJECT_ROOT}\")\n",
    "print(f\"  DATA_DIR: {DATA_DIR}\")\n",
    "print(f\"  NOTEBOOKS_DIR: {NOTEBOOKS_DIR}\")\n",
    "print(f\"  PROCESSED_DATA_DIR: {PROCESSED_DATA_DIR}\")\n",
    "print(f\"  RESULTS_DIR: {RESULTS_DIR}\")\n",
    "\n",
    "print(f\"\\n📊 Data Validation Settings:\")\n",
    "for key, value in DATA_VALIDATION.items():\n",
    "    print(f\"  {key}: {value}\")\n",
    "\n",
    "print(f\"\\n⏱️ Supported Timeframes ({len(SUPPORTED_TIMEFRAMES)} total):\")\n",
    "for tf, desc in list(SUPPORTED_TIMEFRAMES.items())[:10]:  # Показываем первые 10\n",
    "    print(f\"  {tf}: {desc}\")\n",
    "if len(SUPPORTED_TIMEFRAMES) > 10:\n",
    "    print(f\"  ... и еще {len(SUPPORTED_TIMEFRAMES) - 10} таймфреймов\")"
   ]
  },
  {
   "cell_type": "code",
   "execution_count": 8,
   "metadata": {},
   "outputs": [
    {
     "name": "stdout",
     "output_type": "stream",
     "text": [
      "📂 Directory Status:\n",
      "  PROJECT_ROOT: ✅ Exists\n",
      "    Files/dirs: 25\n",
      "  DATA_DIR: ✅ Exists\n",
      "    Files/dirs: 2\n",
      "  NOTEBOOKS_DIR: ✅ Exists\n",
      "    Files/dirs: 2\n",
      "  PROCESSED_DATA_DIR: ✅ Exists\n",
      "    Files/dirs: 0\n",
      "  RESULTS_DIR: ✅ Exists\n",
      "    Files/dirs: 1\n"
     ]
    }
   ],
   "source": [
    "# Проверка существования директорий\n",
    "print(\"📂 Directory Status:\")\n",
    "directories = {\n",
    "    'PROJECT_ROOT': PROJECT_ROOT,\n",
    "    'DATA_DIR': DATA_DIR, \n",
    "    'NOTEBOOKS_DIR': NOTEBOOKS_DIR,\n",
    "    'PROCESSED_DATA_DIR': PROCESSED_DATA_DIR,\n",
    "    'RESULTS_DIR': RESULTS_DIR\n",
    "}\n",
    "\n",
    "for name, path in directories.items():\n",
    "    status = \"✅ Exists\" if path.exists() else \"❌ Missing\"\n",
    "    print(f\"  {name}: {status}\")\n",
    "    if path.exists() and path.is_dir():\n",
    "        files_count = len(list(path.glob('*')))\n",
    "        print(f\"    Files/dirs: {files_count}\")"
   ]
  },
  {
   "cell_type": "code",
   "execution_count": 9,
   "metadata": {},
   "outputs": [
    {
     "name": "stdout",
     "output_type": "stream",
     "text": [
      "🧪 Testing Config Functions:\n",
      "==============================\n",
      "\n",
      "📄 get_data_path() examples:\n",
      "  XAUUSD_1h_tradingview_oanda: ❌ OANDA_XAUUSD, 60.csv\n",
      "  EURUSD_1d_tradingview_forexcom: ❌ FOREXCOM_EURUSD, 1D.csv\n",
      "  XAUUSD_15m_metatrader_default: ❌ XAUUSDM15.csv\n",
      "\n",
      "⏱️ validate_timeframe() examples:\n",
      "  1h: ✅ Valid -> 1h\n",
      "  1d: ✅ Valid -> 1d\n",
      "  15m: ✅ Valid -> 15m\n",
      "  5m: ✅ Valid -> 5m\n",
      "  invalid: ❌ Invalid -> Unsupported timeframe: invalid. Supported: ['1m', ...\n"
     ]
    }
   ],
   "source": [
    "# Тестирование функций конфигурации\n",
    "print(\"🧪 Testing Config Functions:\")\n",
    "print(\"=\" * 30)\n",
    "\n",
    "# Тест get_data_path\n",
    "print(\"\\n📄 get_data_path() examples:\")\n",
    "test_cases = [\n",
    "    ('XAUUSD', '1h', 'tradingview', 'oanda'),\n",
    "    ('EURUSD', '1d', 'tradingview', 'forexcom'),\n",
    "    ('XAUUSD', '15m', 'metatrader', 'default')\n",
    "]\n",
    "\n",
    "for symbol, tf, source, provider in test_cases:\n",
    "    try:\n",
    "        path = get_data_path(symbol, tf, source, provider)\n",
    "        exists = \"✅\" if path.exists() else \"❌\"\n",
    "        print(f\"  {symbol}_{tf}_{source}_{provider}: {exists} {path.name}\")\n",
    "    except Exception as e:\n",
    "        print(f\"  {symbol}_{tf}_{source}_{provider}: ❌ Error: {e}\")\n",
    "\n",
    "# Тест validate_timeframe\n",
    "print(\"\\n⏱️ validate_timeframe() examples:\")\n",
    "test_timeframes = ['1h', '1d', '15m', '5m', 'invalid']\n",
    "for tf in test_timeframes:\n",
    "    try:\n",
    "        result = validate_timeframe(tf)\n",
    "        print(f\"  {tf}: ✅ Valid -> {result}\")\n",
    "    except ValueError as e:\n",
    "        print(f\"  {tf}: ❌ Invalid -> {str(e)[:50]}...\")"
   ]
  },
  {
   "cell_type": "markdown",
   "metadata": {},
   "source": [
    "## Шаг 1: Тестирование новых функций управления директориями\n",
    "\n",
    "Проверим работу добавленных функций для управления путями директорий."
   ]
  },
  {
   "cell_type": "markdown",
   "metadata": {},
   "source": [
    "# 01. BQuant Data Module Testing\n",
    "\n",
    "Тестирование модулей данных пакета bquant с пошаговой проверкой функциональности."
   ]
  },
  {
   "cell_type": "code",
   "execution_count": 12,
   "metadata": {},
   "outputs": [
    {
     "name": "stdout",
     "output_type": "stream",
     "text": [
      "🧪 Testing Directory Management Functions\n",
      "=============================================\n",
      "\n",
      "📂 Current Directory Status:\n",
      "  data_dir: STATUS - DEFAULT | EXISTS\n",
      "    Path: /mnt/c/Users/user/Documents/Pro/bquant/data\n",
      "  results_dir: STATUS - DEFAULT | EXISTS\n",
      "    Path: /mnt/c/Users/user/Documents/Pro/bquant/results\n",
      "  notebooks_dir: STATUS - DEFAULT | EXISTS\n",
      "    Path: /mnt/c/Users/user/Documents/Pro/bquant/research/notebooks\n",
      "  processed_data_dir: STATUS - DEFAULT | EXISTS\n",
      "    Path: /mnt/c/Users/user/Documents/Pro/bquant/data/processed\n"
     ]
    }
   ],
   "source": [
    "# Импорт новых функций управления директориями\n",
    "from bquant.core.config import (\n",
    "    get_data_dir, set_data_dir, \n",
    "    get_results_dir, set_results_dir,\n",
    "    get_notebooks_dir, set_notebooks_dir,\n",
    "    get_processed_data_dir, set_processed_data_dir,\n",
    "    reset_directories_to_defaults,\n",
    "    get_directory_status\n",
    ")\n",
    "\n",
    "print(\"🧪 Testing Directory Management Functions\")\n",
    "print(\"=\" * 45)\n",
    "\n",
    "# Проверяем текущее состояние директорий\n",
    "print(\"\\n📂 Current Directory Status:\")\n",
    "status = get_directory_status()\n",
    "\n",
    "for dir_name, info in status.items():\n",
    "    custom_flag = \"CUSTOM\" if info['is_custom'] else \"DEFAULT\"\n",
    "    exists_flag = \"EXISTS\" if info['exists'] else \"NOT_EXISTS\"\n",
    "    print(f\"  {dir_name}: STATUS - {custom_flag} | {exists_flag}\")\n",
    "    print(f\"    Path: {info['current']}\")\n",
    "    if info['is_custom']:\n",
    "        print(f\"    Default: {info['default']}\")"
   ]
  },
  {
   "cell_type": "code",
   "execution_count": 13,
   "metadata": {},
   "outputs": [
    {
     "name": "stdout",
     "output_type": "stream",
     "text": [
      "\n",
      "🔧 Testing Custom Data Directory:\n",
      "Default data dir: /mnt/c/Users/user/Documents/Pro/bquant/data\n",
      "Setting data dir to: /mnt/c/Users/user/Documents/Pro/bquant/data/row\n",
      "✅ New data dir: /mnt/c/Users/user/Documents/Pro/bquant/data/row\n",
      "✅ Directory exists\n",
      "📁 Contains 3 files/dirs:\n",
      "    alldata\n",
      "    OANDA_XAUUSD, 1D.csv\n",
      "    OANDA_XAUUSD, 60.csv\n"
     ]
    }
   ],
   "source": [
    "# Тестируем установку кастомного пути для data - используем актуальную папку data/row\n",
    "print(\"\\n🔧 Testing Custom Data Directory:\")\n",
    "print(f\"Default data dir: {get_data_dir()}\")\n",
    "\n",
    "# Устанавливаем путь к актуальным данным\n",
    "raw_data_path = PROJECT_ROOT / \"data\" / \"row\"\n",
    "print(f\"Setting data dir to: {raw_data_path}\")\n",
    "\n",
    "try:\n",
    "    set_data_dir(raw_data_path)\n",
    "    print(f\"✅ New data dir: {get_data_dir()}\")\n",
    "    \n",
    "    # Проверяем, что директория создалась\n",
    "    if get_data_dir().exists():\n",
    "        print(\"✅ Directory exists\")\n",
    "        # Смотрим содержимое\n",
    "        files = list(get_data_dir().glob(\"*\"))\n",
    "        print(f\"📁 Contains {len(files)} files/dirs:\")\n",
    "        for f in files[:5]:  # Показываем первые 5\n",
    "            print(f\"    {f.name}\")\n",
    "        if len(files) > 5:\n",
    "            print(f\"    ... and {len(files) - 5} more\")\n",
    "    else:\n",
    "        print(\"❌ Directory doesn't exist yet\")\n",
    "        \n",
    "except Exception as e:\n",
    "    print(f\"❌ Error: {e}\")"
   ]
  },
  {
   "cell_type": "code",
   "execution_count": 14,
   "metadata": {},
   "outputs": [
    {
     "name": "stdout",
     "output_type": "stream",
     "text": [
      "\n",
      "📊 Directory Status After Changes:\n",
      "  data_dir: 🔧 CUSTOM ✅\n",
      "    Current: /mnt/c/Users/user/Documents/Pro/bquant/data/row\n",
      "    Default: /mnt/c/Users/user/Documents/Pro/bquant/data\n",
      "  results_dir: 📦 DEFAULT ✅\n",
      "    Current: /mnt/c/Users/user/Documents/Pro/bquant/results\n",
      "  notebooks_dir: 📦 DEFAULT ✅\n",
      "    Current: /mnt/c/Users/user/Documents/Pro/bquant/research/notebooks\n",
      "  processed_data_dir: 📦 DEFAULT ✅\n",
      "    Current: /mnt/c/Users/user/Documents/Pro/bquant/data/processed\n"
     ]
    }
   ],
   "source": [
    "# Проверяем статус после изменений\n",
    "print(\"\\n📊 Directory Status After Changes:\")\n",
    "status = get_directory_status()\n",
    "\n",
    "for dir_name, info in status.items():\n",
    "    custom_flag = \"🔧 CUSTOM\" if info['is_custom'] else \"📦 DEFAULT\"\n",
    "    exists_flag = \"✅\" if info['exists'] else \"❌\"\n",
    "    print(f\"  {dir_name}: {custom_flag} {exists_flag}\")\n",
    "    print(f\"    Current: {info['current']}\")\n",
    "    if info['is_custom'] and info['default'] != info['current']:\n",
    "        print(f\"    Default: {info['default']}\")"
   ]
  },
  {
   "cell_type": "code",
   "execution_count": 15,
   "metadata": {},
   "outputs": [
    {
     "name": "stdout",
     "output_type": "stream",
     "text": [
      "\n",
      "🔄 Testing Reset to Defaults:\n",
      "Before reset:\n",
      "  Data dir is custom: True\n",
      "  Current data dir: /mnt/c/Users/user/Documents/Pro/bquant/data/row\n",
      "\n",
      "After reset:\n",
      "  Data dir is custom: False\n",
      "  Current data dir: /mnt/c/Users/user/Documents/Pro/bquant/data\n",
      "\n",
      "📋 Final Status Summary:\n",
      "All directories using defaults: ✅ Yes\n"
     ]
    }
   ],
   "source": [
    "# Тестируем функцию сброса к умолчаниям\n",
    "print(\"\\n🔄 Testing Reset to Defaults:\")\n",
    "\n",
    "# Сначала покажем что у нас кастомные настройки\n",
    "print(\"Before reset:\")\n",
    "print(f\"  Data dir is custom: {get_directory_status()['data_dir']['is_custom']}\")\n",
    "print(f\"  Current data dir: {get_data_dir()}\")\n",
    "\n",
    "# Сбрасываем\n",
    "reset_directories_to_defaults()\n",
    "\n",
    "print(\"\\nAfter reset:\")\n",
    "print(f\"  Data dir is custom: {get_directory_status()['data_dir']['is_custom']}\")\n",
    "print(f\"  Current data dir: {get_data_dir()}\")\n",
    "\n",
    "# Проверяем полный статус\n",
    "print(\"\\n📋 Final Status Summary:\")\n",
    "status = get_directory_status()\n",
    "all_default = all(not info['is_custom'] for info in status.values())\n",
    "print(f\"All directories using defaults: {'✅ Yes' if all_default else '❌ No'}\")"
   ]
  },
  {
   "cell_type": "code",
   "execution_count": 20,
   "metadata": {},
   "outputs": [
    {
     "name": "stdout",
     "output_type": "stream",
     "text": [
      "\n",
      "🎯 Final Setup - Setting data/row as working data directory:\n",
      "✅ Active data directory: /mnt/c/Users/user/Documents/Pro/bquant/data/row\n",
      "✅ Directory exists: True\n",
      "📄 Found 4 CSV files:\n",
      "    OANDA_XAUUSD, 15.csv\n",
      "    OANDA_XAUUSD, 1D.csv\n",
      "    OANDA_XAUUSD, 60.csv\n",
      "    XAUUSDH1.csv\n",
      "\n",
      "🔧 Ready for data loading tests!\n"
     ]
    }
   ],
   "source": [
    "# Финальный тест - установим data/row как рабочую директорию и оставим\n",
    "print(\"\\n🎯 Final Setup - Setting data/row as working data directory:\")\n",
    "\n",
    "# Устанавливаем актуальную папку с данными\n",
    "raw_data_path = PROJECT_ROOT / \"data\" / \"row\"\n",
    "set_data_dir(raw_data_path)\n",
    "\n",
    "print(f\"✅ Active data directory: {get_data_dir()}\")\n",
    "print(f\"✅ Directory exists: {get_data_dir().exists()}\")\n",
    "\n",
    "if get_data_dir().exists():\n",
    "    # Показываем что есть в папке\n",
    "    csv_files = list(get_data_dir().glob(\"*.csv\"))\n",
    "    print(f\"📄 Found {len(csv_files)} CSV files:\")\n",
    "    for csv_file in csv_files[:5]:  # Первые 5\n",
    "        print(f\"    {csv_file.name}\")\n",
    "    if len(csv_files) > 5:\n",
    "        print(f\"    ... and {len(csv_files) - 3} more CSV files\")\n",
    "\n",
    "print(\"\\n🔧 Ready for data loading tests!\")"
   ]
  },
  {
   "cell_type": "code",
   "execution_count": null,
   "metadata": {},
   "outputs": [],
   "source": []
  }
 ],
 "metadata": {
  "kernelspec": {
   "display_name": "venv_bquant_of_lin",
   "language": "python",
   "name": "python3"
  },
  "language_info": {
   "codemirror_mode": {
    "name": "ipython",
    "version": 3
   },
   "file_extension": ".py",
   "mimetype": "text/x-python",
   "name": "python",
   "nbconvert_exporter": "python",
   "pygments_lexer": "ipython3",
   "version": "3.13.5"
  }
 },
 "nbformat": 4,
 "nbformat_minor": 4
}
