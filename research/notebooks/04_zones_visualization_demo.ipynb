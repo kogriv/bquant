{
  "cells": [
    {
      "cell_type": "markdown",
      "metadata": {},
      "source": [
        "# Zones Visualization Demo (Jupyter)\n",
        "\n",
        "Этот ноутбук показывает начальные шаги демо визуализации зон:\n",
        "- Импорты\n",
        "- Загрузка sample-данных\n",
        "- Построение результата универсального пайплайна (ZoneAnalysisResult)\n",
        "- Первый график (overview) с выводом в ячейке\n"
      ]
    },
    {
      "cell_type": "code",
      "execution_count": 2,
      "metadata": {},
      "outputs": [
        {
          "name": "stdout",
          "output_type": "stream",
          "text": [
            "14:22:20 - bquant - INFO - Система логгирования BQuant инициализирована (консоль: INFO)\n",
            "14:22:20 - bquant - INFO - Логи сохраняются в файл: C:\\Users\\Ivan\\Documents\\pro\\bquant\\logs\\bquant.log (уровень: INFO)\n",
            "14:22:20 - bquant.analysis.zones.detection.registry - INFO - Zone detection strategies registered: combined, line_crossing, preloaded, threshold, zero_crossing\n",
            "14:22:23 - bquant.indicators.library.talib - WARNING - TA-Lib is not available\n",
            "14:22:23 - bquant.indicators - INFO - External indicators registered: pandas_ta=158, talib=0\n",
            "14:22:23 - bquant.indicators - WARNING - Library talib unavailable: Library not installed\n",
            "14:22:25 - bquant - INFO - Система логгирования BQuant инициализирована (консоль: INFO)\n",
            "14:22:25 - bquant - INFO - Логи сохраняются в файл: C:\\Users\\Ivan\\Documents\\pro\\bquant\\logs\\bquant.log (уровень: INFO)\n"
          ]
        },
        {
          "data": {
            "text/plain": [
              "<Logger bquant (DEBUG)>"
            ]
          },
          "execution_count": 2,
          "metadata": {},
          "output_type": "execute_result"
        }
      ],
      "source": [
        "# Импорты\n",
        "from bquant.core.logging_config import setup_logging\n",
        "from bquant.data.samples import get_sample_data\n",
        "from bquant.analysis.zones.pipeline import analyze_zones\n",
        "setup_logging(profile='clean', exceptions={'bquant.core.nb': 'INFO'})"
      ]
    },
    {
      "cell_type": "code",
      "execution_count": 3,
      "metadata": {},
      "outputs": [
        {
          "name": "stdout",
          "output_type": "stream",
          "text": [
            "shape=(1000, 15)\n"
          ]
        },
        {
          "data": {
            "text/html": [
              "<div>\n",
              "<style scoped>\n",
              "    .dataframe tbody tr th:only-of-type {\n",
              "        vertical-align: middle;\n",
              "    }\n",
              "\n",
              "    .dataframe tbody tr th {\n",
              "        vertical-align: top;\n",
              "    }\n",
              "\n",
              "    .dataframe thead th {\n",
              "        text-align: right;\n",
              "    }\n",
              "</style>\n",
              "<table border=\"1\" class=\"dataframe\">\n",
              "  <thead>\n",
              "    <tr style=\"text-align: right;\">\n",
              "      <th></th>\n",
              "      <th>time</th>\n",
              "      <th>open</th>\n",
              "      <th>high</th>\n",
              "      <th>low</th>\n",
              "      <th>close</th>\n",
              "      <th>volume</th>\n",
              "      <th>accumulation_distribution</th>\n",
              "      <th>macd</th>\n",
              "      <th>signal</th>\n",
              "      <th>rsi</th>\n",
              "      <th>rsi_based_ma</th>\n",
              "      <th>regular_bullish</th>\n",
              "      <th>regular_bullish_label</th>\n",
              "      <th>regular_bearish</th>\n",
              "      <th>regular_bearish_label</th>\n",
              "    </tr>\n",
              "  </thead>\n",
              "  <tbody>\n",
              "    <tr>\n",
              "      <th>0</th>\n",
              "      <td>2025-06-11 20:00:00+07:00</td>\n",
              "      <td>3336.940</td>\n",
              "      <td>3344.770</td>\n",
              "      <td>3327.950</td>\n",
              "      <td>3330.000</td>\n",
              "      <td>54323.0</td>\n",
              "      <td>6.642770e+06</td>\n",
              "      <td>1.940145</td>\n",
              "      <td>2.765371</td>\n",
              "      <td>47.827521</td>\n",
              "      <td>55.231967</td>\n",
              "      <td>None</td>\n",
              "      <td>None</td>\n",
              "      <td>None</td>\n",
              "      <td>None</td>\n",
              "    </tr>\n",
              "    <tr>\n",
              "      <th>1</th>\n",
              "      <td>2025-06-11 21:00:00+07:00</td>\n",
              "      <td>3329.980</td>\n",
              "      <td>3341.310</td>\n",
              "      <td>3328.575</td>\n",
              "      <td>3337.635</td>\n",
              "      <td>37324.0</td>\n",
              "      <td>6.658553e+06</td>\n",
              "      <td>2.030300</td>\n",
              "      <td>2.618357</td>\n",
              "      <td>53.656385</td>\n",
              "      <td>55.138886</td>\n",
              "      <td>None</td>\n",
              "      <td>None</td>\n",
              "      <td>None</td>\n",
              "      <td>None</td>\n",
              "    </tr>\n",
              "    <tr>\n",
              "      <th>2</th>\n",
              "      <td>2025-06-11 22:00:00+07:00</td>\n",
              "      <td>3337.715</td>\n",
              "      <td>3342.930</td>\n",
              "      <td>3329.655</td>\n",
              "      <td>3333.220</td>\n",
              "      <td>22725.0</td>\n",
              "      <td>6.648033e+06</td>\n",
              "      <td>1.725604</td>\n",
              "      <td>2.439806</td>\n",
              "      <td>50.166113</td>\n",
              "      <td>55.035372</td>\n",
              "      <td>None</td>\n",
              "      <td>None</td>\n",
              "      <td>None</td>\n",
              "      <td>None</td>\n",
              "    </tr>\n",
              "    <tr>\n",
              "      <th>3</th>\n",
              "      <td>2025-06-11 23:00:00+07:00</td>\n",
              "      <td>3333.265</td>\n",
              "      <td>3334.570</td>\n",
              "      <td>3328.185</td>\n",
              "      <td>3330.390</td>\n",
              "      <td>16495.0</td>\n",
              "      <td>6.642931e+06</td>\n",
              "      <td>1.241461</td>\n",
              "      <td>2.200137</td>\n",
              "      <td>48.010293</td>\n",
              "      <td>54.292673</td>\n",
              "      <td>None</td>\n",
              "      <td>None</td>\n",
              "      <td>None</td>\n",
              "      <td>None</td>\n",
              "    </tr>\n",
              "    <tr>\n",
              "      <th>4</th>\n",
              "      <td>2025-06-12 00:00:00+07:00</td>\n",
              "      <td>3330.410</td>\n",
              "      <td>3331.435</td>\n",
              "      <td>3319.380</td>\n",
              "      <td>3324.365</td>\n",
              "      <td>21476.0</td>\n",
              "      <td>6.639217e+06</td>\n",
              "      <td>0.367373</td>\n",
              "      <td>1.833584</td>\n",
              "      <td>43.704225</td>\n",
              "      <td>53.189298</td>\n",
              "      <td>None</td>\n",
              "      <td>None</td>\n",
              "      <td>None</td>\n",
              "      <td>None</td>\n",
              "    </tr>\n",
              "  </tbody>\n",
              "</table>\n",
              "</div>"
            ],
            "text/plain": [
              "                       time      open      high       low     close   volume  \\\n",
              "0 2025-06-11 20:00:00+07:00  3336.940  3344.770  3327.950  3330.000  54323.0   \n",
              "1 2025-06-11 21:00:00+07:00  3329.980  3341.310  3328.575  3337.635  37324.0   \n",
              "2 2025-06-11 22:00:00+07:00  3337.715  3342.930  3329.655  3333.220  22725.0   \n",
              "3 2025-06-11 23:00:00+07:00  3333.265  3334.570  3328.185  3330.390  16495.0   \n",
              "4 2025-06-12 00:00:00+07:00  3330.410  3331.435  3319.380  3324.365  21476.0   \n",
              "\n",
              "   accumulation_distribution      macd    signal        rsi  rsi_based_ma  \\\n",
              "0               6.642770e+06  1.940145  2.765371  47.827521     55.231967   \n",
              "1               6.658553e+06  2.030300  2.618357  53.656385     55.138886   \n",
              "2               6.648033e+06  1.725604  2.439806  50.166113     55.035372   \n",
              "3               6.642931e+06  1.241461  2.200137  48.010293     54.292673   \n",
              "4               6.639217e+06  0.367373  1.833584  43.704225     53.189298   \n",
              "\n",
              "  regular_bullish regular_bullish_label regular_bearish regular_bearish_label  \n",
              "0            None                  None            None                  None  \n",
              "1            None                  None            None                  None  \n",
              "2            None                  None            None                  None  \n",
              "3            None                  None            None                  None  \n",
              "4            None                  None            None                  None  "
            ]
          },
          "execution_count": 3,
          "metadata": {},
          "output_type": "execute_result"
        }
      ],
      "source": [
        "# Загрузка sample-данных (без внешних путей)\n",
        "df = get_sample_data('tv_xauusd_1h')\n",
        "print(f'shape={df.shape}')\n",
        "df.head()\n"
      ]
    },
    {
      "cell_type": "code",
      "execution_count": 4,
      "metadata": {},
      "outputs": [
        {
          "name": "stdout",
          "output_type": "stream",
          "text": [
            "14:22:32 - bquant.core.cache.DiskCache - INFO - Disk cache initialized: C:\\Users\\Ivan\\.cache\\bquant\n"
          ]
        },
        {
          "name": "stdout",
          "output_type": "stream",
          "text": [
            "Найдено зон: 72\n"
          ]
        }
      ],
      "source": [
        "# Построение универсального пайплайна зон (MACD + zero_crossing)\n",
        "result = (\n",
        "    analyze_zones(df)\n",
        "    .with_indicator('custom', 'macd', fast_period=12, slow_period=26, signal_period=9)\n",
        "    .detect_zones('zero_crossing', indicator_col='macd_hist')\n",
        "    .analyze(clustering=True, n_clusters=3)\n",
        "    .build()\n",
        ")\n",
        "print(f'Найдено зон: {len(result.zones)}')\n"
      ]
    },
    {
      "cell_type": "code",
      "execution_count": 5,
      "metadata": {},
      "outputs": [
        {
          "name": "stdout",
          "output_type": "stream",
          "text": [
            "14:22:39 - bquant.visualization.themes.ChartThemes - INFO - Chart themes initialized with 5 available themes\n",
            "14:22:39 - bquant.visualization - INFO - Visualization initialized: plotly=True, matplotlib=True, charts=yes, zones=yes, statistical=yes, themes=yes\n"
          ]
        },
        {
          "data": {
            "application/vnd.plotly.v1+json": {
              "config": {
                "plotlyServerURL": "https://plot.ly"
              },
              "data": [
                {
                  "close": {
                    "bdata": "7FG4HkVtqkAK16Nw/XOqQM3MzMyMeKpAXI/C9Sh1qkBxPQrXI2+qQAAAAADAh6pAMzMzM7OuqkAAAAAAQMeqQHsUrkfh4qpA4XoUrkfDqkBcj8L1qMKqQPYoXI+CxKpAXI/C9eiwqkAAAAAAAK6qQBSuR+G6wKpAuB6F69HAqkAfhetR+K+qQBSuR+F6vKpA7FG4HgXZqkAzMzMzM9qqQLgehesRyKpA",
                    "dtype": "f8"
                  },
                  "high": {
                    "bdata": "mpmZmRlyqkCkcD0K13SqQPYoXI8Ce6pAw/UoXA96qkDD9ShcD3KqQD0K16OwiKpAPQrXozC4qkA9Ctej8NKqQGZmZmam6KpACtejcP3oqkDsUbgexcyqQKRwPQrXyapApHA9ClfJqkApXI/CNbaqQD0K16NwxKpAAAAAAMDGqkApXI/CtceqQK5H4XpUvqpA7FG4HoXcqkD2KFyPwu2qQD0K16Pw36pA",
                    "dtype": "f8"
                  },
                  "low": {
                    "bdata": "rkfhelRkqkCamZmZ2WuqQJqZmZmZcapASOF6FK5xqkC4HoXrEWeqQMP1KFxPbapAUrgehat/qkCuR+F6FKyqQKRwPQrXwapAKVyPwrW/qkCuR+F61L2qQJqZmZkZtKpAAAAAAAChqkCamZmZ2Z+qQBSuR+G6rKpAuB6F61G4qkAzMzMzM6eqQOxRuB5FqapA4XoUroe7qkBxPQrX49OqQM3MzMyMv6pA",
                    "dtype": "f8"
                  },
                  "name": "Price",
                  "open": {
                    "bdata": "ZmZmZqZvqkCF61G4Xm2qQIXrUbiec6pA16NwPYp4qkAUrkfhum+qQM3MzMwMb6pAKVyPwrWHqkD2KFyPgq6qQFyPwvUox6pArkfhetTiqkAUrkfhOsOqQBSuR+G6wqpAPQrXo3DEqkC4HoXr0bCqQJqZmZnZrapApHA9CtfAqkAUrkfhusCqQClcj8L1r6pASOF6FK68qkAK16Nw/diqQFyPwvUo2qpA",
                    "dtype": "f8"
                  },
                  "type": "candlestick",
                  "x": {
                    "bdata": "GxwdHh8gISIjJCUmJygpKissLS4v",
                    "dtype": "i1"
                  },
                  "xaxis": "x",
                  "yaxis": "y"
                },
                {
                  "line": {
                    "color": "#1f77b4",
                    "width": 1.6
                  },
                  "mode": "lines",
                  "name": "macd_hist",
                  "type": "scatter",
                  "x": {
                    "bdata": "GxwdHh8gISIjJCUmJygpKissLS4v",
                    "dtype": "i1"
                  },
                  "xaxis": "x",
                  "y": {
                    "bdata": "AAAAAAAA+H8AAAAAAAD4fwAAAAAAAPh/AAAAAAAA+H8AAAAAAAD4f/B4tJi3C9Q/0BTD0pX++j9m6VehLRIJQCb1BBJojhJABuu/AM84EUCArtGdQB4OQMymWvsghAlAQCBiSyFe/z+g1Ad2E4vsP4AXKsCbleQ/gOLbSHot1j8AAAAAAAD4fwAAAAAAAPh/AAAAAAAA+H8AAAAAAAD4fwAAAAAAAPh/",
                    "dtype": "f8"
                  },
                  "yaxis": "y"
                },
                {
                  "marker": {
                    "color": "rgba(100, 149, 237, 0.4)"
                  },
                  "name": "Volume",
                  "type": "bar",
                  "x": {
                    "bdata": "GxwdHh8gISIjJCUmJygpKissLS4v",
                    "dtype": "i1"
                  },
                  "xaxis": "x2",
                  "y": {
                    "bdata": "AAAAAIAe0kAAAAAAQMjQQAAAAACAwMdAAAAAAAB4rkAAAAAAAHmyQAAAAACA9MBAAAAAACCO7kAAAAAAgMvkQAAAAACAON5AAAAAAIDF20AAAAAAAEfNQAAAAAAAt9JAAAAAAAAh20AAAAAAgEHWQAAAAACApc9AAAAAAECe0kAAAAAAgMnVQAAAAABAdNRAAAAAAABT10AAAAAAgAvnQAAAAAAgPOdA",
                    "dtype": "f8"
                  },
                  "yaxis": "y2"
                }
              ],
              "layout": {
                "annotations": [
                  {
                    "align": "left",
                    "bgcolor": "rgba(255,255,255,0.8)",
                    "bordercolor": "rgba(0,0,0,0.1)",
                    "font": {
                      "size": 11
                    },
                    "showarrow": false,
                    "text": "Type: bull<br>Duration: 11 bars",
                    "x": 0.01,
                    "xref": "paper",
                    "y": 0.98,
                    "yref": "paper"
                  },
                  {
                    "bgcolor": "rgba(255,255,255,0.8)",
                    "font": {
                      "color": "black",
                      "size": 12
                    },
                    "showarrow": false,
                    "text": "Zone 5",
                    "x": 32,
                    "xref": "x",
                    "y": 1.05,
                    "yref": "paper"
                  }
                ],
                "autosize": false,
                "height": 400,
                "legend": {
                  "orientation": "h",
                  "x": 1,
                  "xanchor": "right",
                  "y": 1.02,
                  "yanchor": "bottom"
                },
                "shapes": [
                  {
                    "fillcolor": "rgba(0, 255, 136, 0.3)",
                    "layer": "below",
                    "line": {
                      "color": "#00ff88",
                      "width": 1
                    },
                    "type": "rect",
                    "x0": 32,
                    "x1": 42,
                    "xref": "x",
                    "y0": 0,
                    "y1": 1,
                    "yref": "y domain"
                  }
                ],
                "template": {
                  "data": {
                    "bar": [
                      {
                        "error_x": {
                          "color": "#2a3f5f"
                        },
                        "error_y": {
                          "color": "#2a3f5f"
                        },
                        "marker": {
                          "line": {
                            "color": "white",
                            "width": 0.5
                          },
                          "pattern": {
                            "fillmode": "overlay",
                            "size": 10,
                            "solidity": 0.2
                          }
                        },
                        "type": "bar"
                      }
                    ],
                    "barpolar": [
                      {
                        "marker": {
                          "line": {
                            "color": "white",
                            "width": 0.5
                          },
                          "pattern": {
                            "fillmode": "overlay",
                            "size": 10,
                            "solidity": 0.2
                          }
                        },
                        "type": "barpolar"
                      }
                    ],
                    "carpet": [
                      {
                        "aaxis": {
                          "endlinecolor": "#2a3f5f",
                          "gridcolor": "#C8D4E3",
                          "linecolor": "#C8D4E3",
                          "minorgridcolor": "#C8D4E3",
                          "startlinecolor": "#2a3f5f"
                        },
                        "baxis": {
                          "endlinecolor": "#2a3f5f",
                          "gridcolor": "#C8D4E3",
                          "linecolor": "#C8D4E3",
                          "minorgridcolor": "#C8D4E3",
                          "startlinecolor": "#2a3f5f"
                        },
                        "type": "carpet"
                      }
                    ],
                    "choropleth": [
                      {
                        "colorbar": {
                          "outlinewidth": 0,
                          "ticks": ""
                        },
                        "type": "choropleth"
                      }
                    ],
                    "contour": [
                      {
                        "colorbar": {
                          "outlinewidth": 0,
                          "ticks": ""
                        },
                        "colorscale": [
                          [
                            0,
                            "#0d0887"
                          ],
                          [
                            0.1111111111111111,
                            "#46039f"
                          ],
                          [
                            0.2222222222222222,
                            "#7201a8"
                          ],
                          [
                            0.3333333333333333,
                            "#9c179e"
                          ],
                          [
                            0.4444444444444444,
                            "#bd3786"
                          ],
                          [
                            0.5555555555555556,
                            "#d8576b"
                          ],
                          [
                            0.6666666666666666,
                            "#ed7953"
                          ],
                          [
                            0.7777777777777778,
                            "#fb9f3a"
                          ],
                          [
                            0.8888888888888888,
                            "#fdca26"
                          ],
                          [
                            1,
                            "#f0f921"
                          ]
                        ],
                        "type": "contour"
                      }
                    ],
                    "contourcarpet": [
                      {
                        "colorbar": {
                          "outlinewidth": 0,
                          "ticks": ""
                        },
                        "type": "contourcarpet"
                      }
                    ],
                    "heatmap": [
                      {
                        "colorbar": {
                          "outlinewidth": 0,
                          "ticks": ""
                        },
                        "colorscale": [
                          [
                            0,
                            "#0d0887"
                          ],
                          [
                            0.1111111111111111,
                            "#46039f"
                          ],
                          [
                            0.2222222222222222,
                            "#7201a8"
                          ],
                          [
                            0.3333333333333333,
                            "#9c179e"
                          ],
                          [
                            0.4444444444444444,
                            "#bd3786"
                          ],
                          [
                            0.5555555555555556,
                            "#d8576b"
                          ],
                          [
                            0.6666666666666666,
                            "#ed7953"
                          ],
                          [
                            0.7777777777777778,
                            "#fb9f3a"
                          ],
                          [
                            0.8888888888888888,
                            "#fdca26"
                          ],
                          [
                            1,
                            "#f0f921"
                          ]
                        ],
                        "type": "heatmap"
                      }
                    ],
                    "histogram": [
                      {
                        "marker": {
                          "pattern": {
                            "fillmode": "overlay",
                            "size": 10,
                            "solidity": 0.2
                          }
                        },
                        "type": "histogram"
                      }
                    ],
                    "histogram2d": [
                      {
                        "colorbar": {
                          "outlinewidth": 0,
                          "ticks": ""
                        },
                        "colorscale": [
                          [
                            0,
                            "#0d0887"
                          ],
                          [
                            0.1111111111111111,
                            "#46039f"
                          ],
                          [
                            0.2222222222222222,
                            "#7201a8"
                          ],
                          [
                            0.3333333333333333,
                            "#9c179e"
                          ],
                          [
                            0.4444444444444444,
                            "#bd3786"
                          ],
                          [
                            0.5555555555555556,
                            "#d8576b"
                          ],
                          [
                            0.6666666666666666,
                            "#ed7953"
                          ],
                          [
                            0.7777777777777778,
                            "#fb9f3a"
                          ],
                          [
                            0.8888888888888888,
                            "#fdca26"
                          ],
                          [
                            1,
                            "#f0f921"
                          ]
                        ],
                        "type": "histogram2d"
                      }
                    ],
                    "histogram2dcontour": [
                      {
                        "colorbar": {
                          "outlinewidth": 0,
                          "ticks": ""
                        },
                        "colorscale": [
                          [
                            0,
                            "#0d0887"
                          ],
                          [
                            0.1111111111111111,
                            "#46039f"
                          ],
                          [
                            0.2222222222222222,
                            "#7201a8"
                          ],
                          [
                            0.3333333333333333,
                            "#9c179e"
                          ],
                          [
                            0.4444444444444444,
                            "#bd3786"
                          ],
                          [
                            0.5555555555555556,
                            "#d8576b"
                          ],
                          [
                            0.6666666666666666,
                            "#ed7953"
                          ],
                          [
                            0.7777777777777778,
                            "#fb9f3a"
                          ],
                          [
                            0.8888888888888888,
                            "#fdca26"
                          ],
                          [
                            1,
                            "#f0f921"
                          ]
                        ],
                        "type": "histogram2dcontour"
                      }
                    ],
                    "mesh3d": [
                      {
                        "colorbar": {
                          "outlinewidth": 0,
                          "ticks": ""
                        },
                        "type": "mesh3d"
                      }
                    ],
                    "parcoords": [
                      {
                        "line": {
                          "colorbar": {
                            "outlinewidth": 0,
                            "ticks": ""
                          }
                        },
                        "type": "parcoords"
                      }
                    ],
                    "pie": [
                      {
                        "automargin": true,
                        "type": "pie"
                      }
                    ],
                    "scatter": [
                      {
                        "fillpattern": {
                          "fillmode": "overlay",
                          "size": 10,
                          "solidity": 0.2
                        },
                        "type": "scatter"
                      }
                    ],
                    "scatter3d": [
                      {
                        "line": {
                          "colorbar": {
                            "outlinewidth": 0,
                            "ticks": ""
                          }
                        },
                        "marker": {
                          "colorbar": {
                            "outlinewidth": 0,
                            "ticks": ""
                          }
                        },
                        "type": "scatter3d"
                      }
                    ],
                    "scattercarpet": [
                      {
                        "marker": {
                          "colorbar": {
                            "outlinewidth": 0,
                            "ticks": ""
                          }
                        },
                        "type": "scattercarpet"
                      }
                    ],
                    "scattergeo": [
                      {
                        "marker": {
                          "colorbar": {
                            "outlinewidth": 0,
                            "ticks": ""
                          }
                        },
                        "type": "scattergeo"
                      }
                    ],
                    "scattergl": [
                      {
                        "marker": {
                          "colorbar": {
                            "outlinewidth": 0,
                            "ticks": ""
                          }
                        },
                        "type": "scattergl"
                      }
                    ],
                    "scattermap": [
                      {
                        "marker": {
                          "colorbar": {
                            "outlinewidth": 0,
                            "ticks": ""
                          }
                        },
                        "type": "scattermap"
                      }
                    ],
                    "scattermapbox": [
                      {
                        "marker": {
                          "colorbar": {
                            "outlinewidth": 0,
                            "ticks": ""
                          }
                        },
                        "type": "scattermapbox"
                      }
                    ],
                    "scatterpolar": [
                      {
                        "marker": {
                          "colorbar": {
                            "outlinewidth": 0,
                            "ticks": ""
                          }
                        },
                        "type": "scatterpolar"
                      }
                    ],
                    "scatterpolargl": [
                      {
                        "marker": {
                          "colorbar": {
                            "outlinewidth": 0,
                            "ticks": ""
                          }
                        },
                        "type": "scatterpolargl"
                      }
                    ],
                    "scatterternary": [
                      {
                        "marker": {
                          "colorbar": {
                            "outlinewidth": 0,
                            "ticks": ""
                          }
                        },
                        "type": "scatterternary"
                      }
                    ],
                    "surface": [
                      {
                        "colorbar": {
                          "outlinewidth": 0,
                          "ticks": ""
                        },
                        "colorscale": [
                          [
                            0,
                            "#0d0887"
                          ],
                          [
                            0.1111111111111111,
                            "#46039f"
                          ],
                          [
                            0.2222222222222222,
                            "#7201a8"
                          ],
                          [
                            0.3333333333333333,
                            "#9c179e"
                          ],
                          [
                            0.4444444444444444,
                            "#bd3786"
                          ],
                          [
                            0.5555555555555556,
                            "#d8576b"
                          ],
                          [
                            0.6666666666666666,
                            "#ed7953"
                          ],
                          [
                            0.7777777777777778,
                            "#fb9f3a"
                          ],
                          [
                            0.8888888888888888,
                            "#fdca26"
                          ],
                          [
                            1,
                            "#f0f921"
                          ]
                        ],
                        "type": "surface"
                      }
                    ],
                    "table": [
                      {
                        "cells": {
                          "fill": {
                            "color": "#EBF0F8"
                          },
                          "line": {
                            "color": "white"
                          }
                        },
                        "header": {
                          "fill": {
                            "color": "#C8D4E3"
                          },
                          "line": {
                            "color": "white"
                          }
                        },
                        "type": "table"
                      }
                    ]
                  },
                  "layout": {
                    "annotationdefaults": {
                      "arrowcolor": "#2a3f5f",
                      "arrowhead": 0,
                      "arrowwidth": 1
                    },
                    "autotypenumbers": "strict",
                    "coloraxis": {
                      "colorbar": {
                        "outlinewidth": 0,
                        "ticks": ""
                      }
                    },
                    "colorscale": {
                      "diverging": [
                        [
                          0,
                          "#8e0152"
                        ],
                        [
                          0.1,
                          "#c51b7d"
                        ],
                        [
                          0.2,
                          "#de77ae"
                        ],
                        [
                          0.3,
                          "#f1b6da"
                        ],
                        [
                          0.4,
                          "#fde0ef"
                        ],
                        [
                          0.5,
                          "#f7f7f7"
                        ],
                        [
                          0.6,
                          "#e6f5d0"
                        ],
                        [
                          0.7,
                          "#b8e186"
                        ],
                        [
                          0.8,
                          "#7fbc41"
                        ],
                        [
                          0.9,
                          "#4d9221"
                        ],
                        [
                          1,
                          "#276419"
                        ]
                      ],
                      "sequential": [
                        [
                          0,
                          "#0d0887"
                        ],
                        [
                          0.1111111111111111,
                          "#46039f"
                        ],
                        [
                          0.2222222222222222,
                          "#7201a8"
                        ],
                        [
                          0.3333333333333333,
                          "#9c179e"
                        ],
                        [
                          0.4444444444444444,
                          "#bd3786"
                        ],
                        [
                          0.5555555555555556,
                          "#d8576b"
                        ],
                        [
                          0.6666666666666666,
                          "#ed7953"
                        ],
                        [
                          0.7777777777777778,
                          "#fb9f3a"
                        ],
                        [
                          0.8888888888888888,
                          "#fdca26"
                        ],
                        [
                          1,
                          "#f0f921"
                        ]
                      ],
                      "sequentialminus": [
                        [
                          0,
                          "#0d0887"
                        ],
                        [
                          0.1111111111111111,
                          "#46039f"
                        ],
                        [
                          0.2222222222222222,
                          "#7201a8"
                        ],
                        [
                          0.3333333333333333,
                          "#9c179e"
                        ],
                        [
                          0.4444444444444444,
                          "#bd3786"
                        ],
                        [
                          0.5555555555555556,
                          "#d8576b"
                        ],
                        [
                          0.6666666666666666,
                          "#ed7953"
                        ],
                        [
                          0.7777777777777778,
                          "#fb9f3a"
                        ],
                        [
                          0.8888888888888888,
                          "#fdca26"
                        ],
                        [
                          1,
                          "#f0f921"
                        ]
                      ]
                    },
                    "colorway": [
                      "#636efa",
                      "#EF553B",
                      "#00cc96",
                      "#ab63fa",
                      "#FFA15A",
                      "#19d3f3",
                      "#FF6692",
                      "#B6E880",
                      "#FF97FF",
                      "#FECB52"
                    ],
                    "font": {
                      "color": "#2a3f5f"
                    },
                    "geo": {
                      "bgcolor": "white",
                      "lakecolor": "white",
                      "landcolor": "white",
                      "showlakes": true,
                      "showland": true,
                      "subunitcolor": "#C8D4E3"
                    },
                    "hoverlabel": {
                      "align": "left"
                    },
                    "hovermode": "closest",
                    "mapbox": {
                      "style": "light"
                    },
                    "paper_bgcolor": "white",
                    "plot_bgcolor": "white",
                    "polar": {
                      "angularaxis": {
                        "gridcolor": "#EBF0F8",
                        "linecolor": "#EBF0F8",
                        "ticks": ""
                      },
                      "bgcolor": "white",
                      "radialaxis": {
                        "gridcolor": "#EBF0F8",
                        "linecolor": "#EBF0F8",
                        "ticks": ""
                      }
                    },
                    "scene": {
                      "xaxis": {
                        "backgroundcolor": "white",
                        "gridcolor": "#DFE8F3",
                        "gridwidth": 2,
                        "linecolor": "#EBF0F8",
                        "showbackground": true,
                        "ticks": "",
                        "zerolinecolor": "#EBF0F8"
                      },
                      "yaxis": {
                        "backgroundcolor": "white",
                        "gridcolor": "#DFE8F3",
                        "gridwidth": 2,
                        "linecolor": "#EBF0F8",
                        "showbackground": true,
                        "ticks": "",
                        "zerolinecolor": "#EBF0F8"
                      },
                      "zaxis": {
                        "backgroundcolor": "white",
                        "gridcolor": "#DFE8F3",
                        "gridwidth": 2,
                        "linecolor": "#EBF0F8",
                        "showbackground": true,
                        "ticks": "",
                        "zerolinecolor": "#EBF0F8"
                      }
                    },
                    "shapedefaults": {
                      "line": {
                        "color": "#2a3f5f"
                      }
                    },
                    "ternary": {
                      "aaxis": {
                        "gridcolor": "#DFE8F3",
                        "linecolor": "#A2B1C6",
                        "ticks": ""
                      },
                      "baxis": {
                        "gridcolor": "#DFE8F3",
                        "linecolor": "#A2B1C6",
                        "ticks": ""
                      },
                      "bgcolor": "white",
                      "caxis": {
                        "gridcolor": "#DFE8F3",
                        "linecolor": "#A2B1C6",
                        "ticks": ""
                      }
                    },
                    "title": {
                      "x": 0.05
                    },
                    "xaxis": {
                      "automargin": true,
                      "gridcolor": "#EBF0F8",
                      "linecolor": "#EBF0F8",
                      "ticks": "",
                      "title": {
                        "standoff": 15
                      },
                      "zerolinecolor": "#EBF0F8",
                      "zerolinewidth": 2
                    },
                    "yaxis": {
                      "automargin": true,
                      "gridcolor": "#EBF0F8",
                      "linecolor": "#EBF0F8",
                      "ticks": "",
                      "title": {
                        "standoff": 15
                      },
                      "zerolinecolor": "#EBF0F8",
                      "zerolinewidth": 2
                    }
                  }
                },
                "title": {
                  "text": "Zone Detail"
                },
                "width": 800,
                "xaxis": {
                  "anchor": "y",
                  "domain": [
                    0,
                    1
                  ],
                  "matches": "x",
                  "rangeslider": {
                    "visible": false
                  },
                  "showticklabels": false
                },
                "xaxis2": {
                  "anchor": "y2",
                  "domain": [
                    0,
                    1
                  ],
                  "matches": "x"
                },
                "yaxis": {
                  "anchor": "x",
                  "domain": [
                    0.2875,
                    0.9999999999999999
                  ]
                },
                "yaxis2": {
                  "anchor": "x2",
                  "domain": [
                    0,
                    0.2375
                  ],
                  "title": {
                    "text": "Volume"
                  }
                }
              }
            }
          },
          "metadata": {},
          "output_type": "display_data"
        }
      ],
      "source": [
        "fig = result.visualize('detail', zone_id=5, context_bars=5, backend='plotly', show_indicators=False ).\\\n",
        "    update_layout(width=800, height=400, autosize=False)\n",
        "fig\n",
        "# fig.show(config={'responsive': False})"
      ]
    },
    {
      "cell_type": "code",
      "execution_count": 8,
      "metadata": {},
      "outputs": [],
      "source": [
        "# result.visualize('detail', zone_id=3, backend='matplotlib', context_bars=20)"
      ]
    },
    {
      "cell_type": "code",
      "execution_count": null,
      "metadata": {},
      "outputs": [],
      "source": []
    }
  ],
  "metadata": {
    "kernelspec": {
      "display_name": "venv_bquant_dell_win",
      "language": "python",
      "name": "python3"
    },
    "language_info": {
      "codemirror_mode": {
        "name": "ipython",
        "version": 3
      },
      "file_extension": ".py",
      "mimetype": "text/x-python",
      "name": "python",
      "nbconvert_exporter": "python",
      "pygments_lexer": "ipython3",
      "version": "3.13.5"
    }
  },
  "nbformat": 4,
  "nbformat_minor": 2
}
